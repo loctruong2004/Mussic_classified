{
 "cells": [
  {
   "cell_type": "markdown",
   "id": "a12ecf02",
   "metadata": {},
   "source": [
    "### data preprocess "
   ]
  },
  {
   "cell_type": "code",
   "execution_count": 1,
   "id": "d16b3164",
   "metadata": {},
   "outputs": [],
   "source": [
    "import numpy as np\n",
    "import tensorflow as tf\n",
    "\n",
    "import numpy as np \n",
    "import pandas as pd \n",
    "import matplotlib.pyplot as plt\n",
    "import os"
   ]
  },
  {
   "cell_type": "code",
   "execution_count": 2,
   "id": "5ecdb6a6",
   "metadata": {},
   "outputs": [],
   "source": [
    "dataset_path = os.listdir('./dataset')\n"
   ]
  },
  {
   "cell_type": "code",
   "execution_count": 3,
   "id": "a557ecde",
   "metadata": {},
   "outputs": [
    {
     "name": "stdout",
     "output_type": "stream",
     "text": [
      "['bolero', 'danca', 'pop']\n",
      "Types of classes labels found:  3\n"
     ]
    }
   ],
   "source": [
    "print (dataset_path)  #what kinds of classes are in this dataset\n",
    "\n",
    "print(\"Types of classes labels found: \", len(dataset_path))"
   ]
  },
  {
   "cell_type": "code",
   "execution_count": 4,
   "id": "e77714e7",
   "metadata": {},
   "outputs": [],
   "source": [
    "class_labels = []\n",
    "\n",
    "for item in dataset_path:\n",
    " # Get all the file names\n",
    " all_classes = os.listdir('./dataset' + '/' +item)\n",
    " #print(all_classes)\n",
    "\n",
    " # Add them to the list\n",
    " for room in all_classes:\n",
    "    class_labels.append((item, str('dataset_path' + '/' +item) + '/' + room))\n",
    "    #print(class_labels[:5])"
   ]
  },
  {
   "cell_type": "code",
   "execution_count": 5,
   "id": "244e133d",
   "metadata": {},
   "outputs": [
    {
     "name": "stdout",
     "output_type": "stream",
     "text": [
      "   Labels                                              image\n",
      "0  bolero  dataset_path/bolero/Ai_Khổ_Vì_Ai_BeeBoss_part1...\n",
      "1  bolero  dataset_path/bolero/Ai_Khổ_Vì_Ai_BeeBoss_part1...\n",
      "2  bolero  dataset_path/bolero/Ai_Khổ_Vì_Ai_BeeBoss_part2...\n",
      "3  bolero  dataset_path/bolero/Ai_Khổ_Vì_Ai_BeeBoss_part2...\n",
      "4  bolero  dataset_path/bolero/Ai_Khổ_Vì_Ai_BeeBoss_part3...\n",
      "     Labels                                              image\n",
      "2995    pop          dataset_path/pop/Ơ_Thế_Là_Kim_Chi_Sun.png\n",
      "2996    pop  dataset_path/pop/Ấn_Nút_Nhớ..._Thả_Giấc_Mơ_Sơn...\n",
      "2997    pop  dataset_path/pop/Ấn_Nút_Nhớ..._Thả_Giấc_Mơ_Sơn...\n",
      "2998    pop  dataset_path/pop/Ấn_Nút_Nhớ..._Thả_Giấc_Mơ_Sơn...\n",
      "2999    pop  dataset_path/pop/Ấn_Nút_Nhớ..._Thả_Giấc_Mơ_Sơn...\n"
     ]
    }
   ],
   "source": [
    "# Build a dataframe        \n",
    "df = pd.DataFrame(data=class_labels, columns=['Labels', 'image'])\n",
    "print(df.head())\n",
    "print(df.tail())"
   ]
  },
  {
   "cell_type": "code",
   "execution_count": 6,
   "id": "82c81fea",
   "metadata": {},
   "outputs": [
    {
     "name": "stdout",
     "output_type": "stream",
     "text": [
      "Total number of images in the dataset:  3000\n",
      "Labels\n",
      "bolero    1000\n",
      "danca     1000\n",
      "pop       1000\n",
      "Name: count, dtype: int64\n"
     ]
    }
   ],
   "source": [
    "# Let's check how many samples for each category are present\n",
    "print(\"Total number of images in the dataset: \", len(df))\n",
    "\n",
    "label_count = df['Labels'].value_counts()\n",
    "print(label_count)"
   ]
  },
  {
   "cell_type": "code",
   "execution_count": 7,
   "id": "429df92c",
   "metadata": {},
   "outputs": [],
   "source": [
    "from PIL import Image\n",
    "import numpy as np\n",
    "import os\n",
    "\n",
    "path = './dataset/'\n",
    "dataset_path = os.listdir(path)\n",
    "\n",
    "im_size = 224\n",
    "\n",
    "images = []\n",
    "labels = []\n",
    "\n",
    "for label in dataset_path:\n",
    "    data_path = os.path.join(path, label)\n",
    "    filenames = os.listdir(data_path)\n",
    "\n",
    "    for f in filenames:\n",
    "        img_path = os.path.join(data_path, f)\n",
    "\n",
    "        try:\n",
    "            img = Image.open(img_path).convert(\"RGB\")\n",
    "            img = img.resize((im_size, im_size))\n",
    "            img = np.array(img)  # chuyển thành numpy array giống cv2\n",
    "            images.append(img)\n",
    "            labels.append(label)\n",
    "        except Exception as e:\n",
    "            print(f\"❌ Lỗi đọc ảnh {img_path}: {e}\")\n"
   ]
  },
  {
   "cell_type": "code",
   "execution_count": 8,
   "id": "d8ad9d98",
   "metadata": {},
   "outputs": [
    {
     "data": {
      "text/plain": [
       "(3000, 224, 224, 3)"
      ]
     },
     "execution_count": 8,
     "metadata": {},
     "output_type": "execute_result"
    }
   ],
   "source": [
    "images = np.array(images)\n",
    "\n",
    "images = images.astype('float32') / 255.0   \n",
    "images.shape"
   ]
  },
  {
   "cell_type": "code",
   "execution_count": 9,
   "id": "11d08e67",
   "metadata": {},
   "outputs": [
    {
     "name": "stdout",
     "output_type": "stream",
     "text": [
      "['bolero' 'bolero' 'bolero' ... 'pop' 'pop' 'pop']\n",
      "[0 0 0 ... 2 2 2]\n"
     ]
    }
   ],
   "source": [
    "from sklearn.preprocessing import LabelEncoder , OneHotEncoder\n",
    "y=df['Labels'].values\n",
    "print(y)\n",
    "\n",
    "y_labelencoder = LabelEncoder ()\n",
    "y = y_labelencoder.fit_transform (y)\n",
    "print (y)"
   ]
  },
  {
   "cell_type": "code",
   "execution_count": 10,
   "id": "8ef54c2a",
   "metadata": {},
   "outputs": [
    {
     "name": "stdout",
     "output_type": "stream",
     "text": [
      "[[1. 0. 0.]\n",
      " [1. 0. 0.]\n",
      " [1. 0. 0.]\n",
      " [1. 0. 0.]\n",
      " [1. 0. 0.]]\n",
      "[[1. 0. 0.]\n",
      " [1. 0. 0.]\n",
      " [1. 0. 0.]\n",
      " ...\n",
      " [0. 0. 1.]\n",
      " [0. 0. 1.]\n",
      " [0. 0. 1.]]\n"
     ]
    }
   ],
   "source": [
    "y=y.reshape(-1,1)\n",
    "\n",
    "from sklearn.compose import ColumnTransformer\n",
    "ct = ColumnTransformer([('my_ohe', OneHotEncoder(), [0])], remainder='passthrough')\n",
    "Y = ct.fit_transform(y) #.toarray()\n",
    "print(Y[:5])\n",
    "print(Y[35:])"
   ]
  },
  {
   "cell_type": "code",
   "execution_count": null,
   "id": "5ab126a7",
   "metadata": {},
   "outputs": [],
   "source": [
    "from sklearn.utils import shuffle\n",
    "from sklearn.model_selection import train_test_split\n",
    "\n",
    "\n",
    "# images, Y = shuffle(images, Y, random_state=1)\n",
    "\n",
    "\n",
    "# train_x, valid_x, train_y, valid_y = train_test_split(images, Y, test_size=0.05, random_state=415)\n",
    "\n",
    "# #inpect the shape of the training and testing.\n",
    "# print(train_x.shape)\n",
    "# print(train_y.shape)\n",
    "# print(valid_x.shape)\n",
    "# print(valid_y.shape)\n",
    "\n",
    "\n",
    "# Shuffle toàn bộ\n",
    "images, Y = shuffle(images, Y, random_state=1)\n",
    "\n",
    "# Lần 1: chia train + temp (95%)\n",
    "train_x, temp_x, train_y, temp_y = train_test_split(images, Y, test_size=0.25, random_state=415)\n",
    "\n",
    "# Lần 2: chia temp thành val + test (7.5% + 7.5%)\n",
    "val_x, test_x, val_y, test_y = train_test_split(temp_x, temp_y, test_size=0.4, random_state=415)\n",
    "#inpect the shape of the training and testing.\n",
    "print(train_x.shape)\n",
    "print(train_y.shape)\n",
    "print(test_x.shape)\n",
    "print(test_y.shape)"
   ]
  },
  {
   "cell_type": "code",
   "execution_count": 31,
   "id": "6c216106",
   "metadata": {},
   "outputs": [
    {
     "name": "stdout",
     "output_type": "stream",
     "text": [
      "Phân bố tập validation: [747 750 753]\n",
      "Phân bố tập test: [ 94 109  97]\n"
     ]
    }
   ],
   "source": [
    "import numpy as np\n",
    "\n",
    "# Chuyển từ one-hot về label index\n",
    "val_labels = np.argmax(train_y, axis=1)\n",
    "test_labels = np.argmax(test_y, axis=1)\n",
    "\n",
    "# Đếm số lượng mỗi class\n",
    "print(\"Phân bố tập validation:\", np.bincount(val_labels))\n",
    "print(\"Phân bố tập test:\", np.bincount(test_labels))\n"
   ]
  },
  {
   "cell_type": "code",
   "execution_count": 32,
   "id": "039ef285",
   "metadata": {},
   "outputs": [],
   "source": [
    "from tensorflow.keras import layers\n",
    "from tensorflow.keras.applications import EfficientNetB0\n",
    "\n",
    "NUM_CLASSES = 3\n",
    "IMG_SIZE = 224\n",
    "size = (IMG_SIZE, IMG_SIZE)\n",
    "\n",
    "\n",
    "inputs = layers.Input(shape=(IMG_SIZE, IMG_SIZE, 3))\n",
    "\n",
    "\n",
    "# Using model without transfer learning\n",
    "\n",
    "outputs = EfficientNetB0(include_top=True, weights=None, classes=NUM_CLASSES)(inputs)"
   ]
  },
  {
   "cell_type": "code",
   "execution_count": 36,
   "id": "9eb6837e",
   "metadata": {},
   "outputs": [
    {
     "data": {
      "text/html": [
       "<pre style=\"white-space:pre;overflow-x:auto;line-height:normal;font-family:Menlo,'DejaVu Sans Mono',consolas,'Courier New',monospace\"><span style=\"font-weight: bold\">Model: \"functional_5\"</span>\n",
       "</pre>\n"
      ],
      "text/plain": [
       "\u001b[1mModel: \"functional_5\"\u001b[0m\n"
      ]
     },
     "metadata": {},
     "output_type": "display_data"
    },
    {
     "data": {
      "text/html": [
       "<pre style=\"white-space:pre;overflow-x:auto;line-height:normal;font-family:Menlo,'DejaVu Sans Mono',consolas,'Courier New',monospace\">┏━━━━━━━━━━━━━━━━━━━━━━━━━━━━━━━━━┳━━━━━━━━━━━━━━━━━━━━━━━━┳━━━━━━━━━━━━━━━┓\n",
       "┃<span style=\"font-weight: bold\"> Layer (type)                    </span>┃<span style=\"font-weight: bold\"> Output Shape           </span>┃<span style=\"font-weight: bold\">       Param # </span>┃\n",
       "┡━━━━━━━━━━━━━━━━━━━━━━━━━━━━━━━━━╇━━━━━━━━━━━━━━━━━━━━━━━━╇━━━━━━━━━━━━━━━┩\n",
       "│ input_layer_8 (<span style=\"color: #0087ff; text-decoration-color: #0087ff\">InputLayer</span>)      │ (<span style=\"color: #00d7ff; text-decoration-color: #00d7ff\">None</span>, <span style=\"color: #00af00; text-decoration-color: #00af00\">224</span>, <span style=\"color: #00af00; text-decoration-color: #00af00\">224</span>, <span style=\"color: #00af00; text-decoration-color: #00af00\">3</span>)    │             <span style=\"color: #00af00; text-decoration-color: #00af00\">0</span> │\n",
       "├─────────────────────────────────┼────────────────────────┼───────────────┤\n",
       "│ efficientnetb0 (<span style=\"color: #0087ff; text-decoration-color: #0087ff\">Functional</span>)     │ (<span style=\"color: #00d7ff; text-decoration-color: #00d7ff\">None</span>, <span style=\"color: #00af00; text-decoration-color: #00af00\">3</span>)              │     <span style=\"color: #00af00; text-decoration-color: #00af00\">4,053,414</span> │\n",
       "└─────────────────────────────────┴────────────────────────┴───────────────┘\n",
       "</pre>\n"
      ],
      "text/plain": [
       "┏━━━━━━━━━━━━━━━━━━━━━━━━━━━━━━━━━┳━━━━━━━━━━━━━━━━━━━━━━━━┳━━━━━━━━━━━━━━━┓\n",
       "┃\u001b[1m \u001b[0m\u001b[1mLayer (type)                   \u001b[0m\u001b[1m \u001b[0m┃\u001b[1m \u001b[0m\u001b[1mOutput Shape          \u001b[0m\u001b[1m \u001b[0m┃\u001b[1m \u001b[0m\u001b[1m      Param #\u001b[0m\u001b[1m \u001b[0m┃\n",
       "┡━━━━━━━━━━━━━━━━━━━━━━━━━━━━━━━━━╇━━━━━━━━━━━━━━━━━━━━━━━━╇━━━━━━━━━━━━━━━┩\n",
       "│ input_layer_8 (\u001b[38;5;33mInputLayer\u001b[0m)      │ (\u001b[38;5;45mNone\u001b[0m, \u001b[38;5;34m224\u001b[0m, \u001b[38;5;34m224\u001b[0m, \u001b[38;5;34m3\u001b[0m)    │             \u001b[38;5;34m0\u001b[0m │\n",
       "├─────────────────────────────────┼────────────────────────┼───────────────┤\n",
       "│ efficientnetb0 (\u001b[38;5;33mFunctional\u001b[0m)     │ (\u001b[38;5;45mNone\u001b[0m, \u001b[38;5;34m3\u001b[0m)              │     \u001b[38;5;34m4,053,414\u001b[0m │\n",
       "└─────────────────────────────────┴────────────────────────┴───────────────┘\n"
      ]
     },
     "metadata": {},
     "output_type": "display_data"
    },
    {
     "data": {
      "text/html": [
       "<pre style=\"white-space:pre;overflow-x:auto;line-height:normal;font-family:Menlo,'DejaVu Sans Mono',consolas,'Courier New',monospace\"><span style=\"font-weight: bold\"> Total params: </span><span style=\"color: #00af00; text-decoration-color: #00af00\">4,053,414</span> (15.46 MB)\n",
       "</pre>\n"
      ],
      "text/plain": [
       "\u001b[1m Total params: \u001b[0m\u001b[38;5;34m4,053,414\u001b[0m (15.46 MB)\n"
      ]
     },
     "metadata": {},
     "output_type": "display_data"
    },
    {
     "data": {
      "text/html": [
       "<pre style=\"white-space:pre;overflow-x:auto;line-height:normal;font-family:Menlo,'DejaVu Sans Mono',consolas,'Courier New',monospace\"><span style=\"font-weight: bold\"> Trainable params: </span><span style=\"color: #00af00; text-decoration-color: #00af00\">4,011,391</span> (15.30 MB)\n",
       "</pre>\n"
      ],
      "text/plain": [
       "\u001b[1m Trainable params: \u001b[0m\u001b[38;5;34m4,011,391\u001b[0m (15.30 MB)\n"
      ]
     },
     "metadata": {},
     "output_type": "display_data"
    },
    {
     "data": {
      "text/html": [
       "<pre style=\"white-space:pre;overflow-x:auto;line-height:normal;font-family:Menlo,'DejaVu Sans Mono',consolas,'Courier New',monospace\"><span style=\"font-weight: bold\"> Non-trainable params: </span><span style=\"color: #00af00; text-decoration-color: #00af00\">42,023</span> (164.16 KB)\n",
       "</pre>\n"
      ],
      "text/plain": [
       "\u001b[1m Non-trainable params: \u001b[0m\u001b[38;5;34m42,023\u001b[0m (164.16 KB)\n"
      ]
     },
     "metadata": {},
     "output_type": "display_data"
    },
    {
     "name": "stdout",
     "output_type": "stream",
     "text": [
      "Epoch 1/30\n",
      "\n",
      "Epoch 1: val_accuracy improved from -inf to 0.41333, saving model to ./check_point/best_model_epoch_01_acc_0.41.h5\n"
     ]
    },
    {
     "name": "stderr",
     "output_type": "stream",
     "text": [
      "WARNING:absl:You are saving your model as an HDF5 file via `model.save()` or `keras.saving.save_model(model)`. This file format is considered legacy. We recommend using instead the native Keras format, e.g. `model.save('my_model.keras')` or `keras.saving.save_model(model, 'my_model.keras')`. \n"
     ]
    },
    {
     "name": "stdout",
     "output_type": "stream",
     "text": [
      "71/71 - 102s - 1s/step - accuracy: 0.8818 - loss: 0.3123 - val_accuracy: 0.4133 - val_loss: 3.0252\n",
      "Epoch 2/30\n",
      "\n",
      "Epoch 2: val_accuracy improved from 0.41333 to 0.45556, saving model to ./check_point/best_model_epoch_02_acc_0.46.h5\n"
     ]
    },
    {
     "name": "stderr",
     "output_type": "stream",
     "text": [
      "WARNING:absl:You are saving your model as an HDF5 file via `model.save()` or `keras.saving.save_model(model)`. This file format is considered legacy. We recommend using instead the native Keras format, e.g. `model.save('my_model.keras')` or `keras.saving.save_model(model, 'my_model.keras')`. \n"
     ]
    },
    {
     "name": "stdout",
     "output_type": "stream",
     "text": [
      "71/71 - 68s - 952ms/step - accuracy: 0.9236 - loss: 0.2072 - val_accuracy: 0.4556 - val_loss: 4.4367\n",
      "Epoch 3/30\n",
      "\n",
      "Epoch 3: val_accuracy improved from 0.45556 to 0.57111, saving model to ./check_point/best_model_epoch_03_acc_0.57.h5\n"
     ]
    },
    {
     "name": "stderr",
     "output_type": "stream",
     "text": [
      "WARNING:absl:You are saving your model as an HDF5 file via `model.save()` or `keras.saving.save_model(model)`. This file format is considered legacy. We recommend using instead the native Keras format, e.g. `model.save('my_model.keras')` or `keras.saving.save_model(model, 'my_model.keras')`. \n"
     ]
    },
    {
     "name": "stdout",
     "output_type": "stream",
     "text": [
      "71/71 - 66s - 930ms/step - accuracy: 0.9302 - loss: 0.2176 - val_accuracy: 0.5711 - val_loss: 3.5323\n",
      "Epoch 4/30\n",
      "\n",
      "Epoch 4: val_accuracy did not improve from 0.57111\n",
      "71/71 - 66s - 931ms/step - accuracy: 0.9382 - loss: 0.1835 - val_accuracy: 0.5511 - val_loss: 1.7974\n",
      "Epoch 5/30\n",
      "\n",
      "Epoch 5: val_accuracy did not improve from 0.57111\n",
      "71/71 - 65s - 921ms/step - accuracy: 0.8862 - loss: 0.3178 - val_accuracy: 0.4244 - val_loss: 3.1961\n",
      "Epoch 6/30\n",
      "\n",
      "Epoch 6: val_accuracy improved from 0.57111 to 0.63778, saving model to ./check_point/best_model_epoch_06_acc_0.64.h5\n"
     ]
    },
    {
     "name": "stderr",
     "output_type": "stream",
     "text": [
      "WARNING:absl:You are saving your model as an HDF5 file via `model.save()` or `keras.saving.save_model(model)`. This file format is considered legacy. We recommend using instead the native Keras format, e.g. `model.save('my_model.keras')` or `keras.saving.save_model(model, 'my_model.keras')`. \n"
     ]
    },
    {
     "name": "stdout",
     "output_type": "stream",
     "text": [
      "71/71 - 67s - 944ms/step - accuracy: 0.9564 - loss: 0.1189 - val_accuracy: 0.6378 - val_loss: 1.5552\n",
      "Epoch 7/30\n",
      "\n",
      "Epoch 7: val_accuracy did not improve from 0.63778\n",
      "71/71 - 65s - 921ms/step - accuracy: 0.9676 - loss: 0.0850 - val_accuracy: 0.5978 - val_loss: 1.6948\n",
      "Epoch 8/30\n",
      "\n",
      "Epoch 8: val_accuracy improved from 0.63778 to 0.72667, saving model to ./check_point/best_model_epoch_08_acc_0.73.h5\n"
     ]
    },
    {
     "name": "stderr",
     "output_type": "stream",
     "text": [
      "WARNING:absl:You are saving your model as an HDF5 file via `model.save()` or `keras.saving.save_model(model)`. This file format is considered legacy. We recommend using instead the native Keras format, e.g. `model.save('my_model.keras')` or `keras.saving.save_model(model, 'my_model.keras')`. \n"
     ]
    },
    {
     "name": "stdout",
     "output_type": "stream",
     "text": [
      "71/71 - 67s - 939ms/step - accuracy: 0.9711 - loss: 0.0939 - val_accuracy: 0.7267 - val_loss: 1.1027\n",
      "Epoch 9/30\n",
      "\n",
      "Epoch 9: val_accuracy did not improve from 0.72667\n",
      "71/71 - 65s - 917ms/step - accuracy: 0.9747 - loss: 0.0675 - val_accuracy: 0.6711 - val_loss: 1.5800\n",
      "Epoch 10/30\n",
      "\n",
      "Epoch 10: val_accuracy did not improve from 0.72667\n",
      "71/71 - 66s - 931ms/step - accuracy: 0.9773 - loss: 0.0643 - val_accuracy: 0.6889 - val_loss: 1.7657\n",
      "Epoch 11/30\n",
      "\n",
      "Epoch 11: val_accuracy did not improve from 0.72667\n",
      "71/71 - 65s - 909ms/step - accuracy: 0.9733 - loss: 0.0727 - val_accuracy: 0.6244 - val_loss: 1.7652\n",
      "Epoch 12/30\n",
      "\n",
      "Epoch 12: val_accuracy did not improve from 0.72667\n",
      "71/71 - 65s - 923ms/step - accuracy: 0.9738 - loss: 0.0753 - val_accuracy: 0.5756 - val_loss: 2.6184\n",
      "Epoch 13/30\n",
      "\n",
      "Epoch 13: val_accuracy did not improve from 0.72667\n",
      "71/71 - 65s - 913ms/step - accuracy: 0.9787 - loss: 0.0674 - val_accuracy: 0.6600 - val_loss: 1.5940\n",
      "Epoch 14/30\n",
      "\n",
      "Epoch 14: val_accuracy did not improve from 0.72667\n",
      "71/71 - 66s - 927ms/step - accuracy: 0.9831 - loss: 0.0539 - val_accuracy: 0.6089 - val_loss: 2.2582\n",
      "Epoch 15/30\n",
      "\n",
      "Epoch 15: val_accuracy did not improve from 0.72667\n",
      "71/71 - 65s - 914ms/step - accuracy: 0.9649 - loss: 0.1080 - val_accuracy: 0.5667 - val_loss: 2.8176\n",
      "Epoch 16/30\n",
      "\n",
      "Epoch 16: val_accuracy did not improve from 0.72667\n",
      "71/71 - 66s - 924ms/step - accuracy: 0.9307 - loss: 0.2094 - val_accuracy: 0.5822 - val_loss: 1.5124\n",
      "Epoch 17/30\n",
      "\n",
      "Epoch 17: val_accuracy did not improve from 0.72667\n",
      "71/71 - 65s - 910ms/step - accuracy: 0.9618 - loss: 0.1202 - val_accuracy: 0.5667 - val_loss: 2.1353\n",
      "Epoch 18/30\n",
      "\n",
      "Epoch 18: val_accuracy did not improve from 0.72667\n",
      "71/71 - 66s - 927ms/step - accuracy: 0.9284 - loss: 0.2347 - val_accuracy: 0.6778 - val_loss: 1.3805\n",
      "Epoch 19/30\n",
      "\n",
      "Epoch 19: val_accuracy did not improve from 0.72667\n",
      "71/71 - 65s - 909ms/step - accuracy: 0.9644 - loss: 0.0986 - val_accuracy: 0.7067 - val_loss: 1.5011\n",
      "Epoch 20/30\n",
      "\n",
      "Epoch 20: val_accuracy did not improve from 0.72667\n",
      "71/71 - 65s - 920ms/step - accuracy: 0.9804 - loss: 0.0596 - val_accuracy: 0.6644 - val_loss: 1.3818\n",
      "Epoch 21/30\n",
      "\n",
      "Epoch 21: val_accuracy did not improve from 0.72667\n",
      "71/71 - 65s - 910ms/step - accuracy: 0.9836 - loss: 0.0428 - val_accuracy: 0.6733 - val_loss: 1.4909\n",
      "Epoch 22/30\n",
      "\n",
      "Epoch 22: val_accuracy improved from 0.72667 to 0.72889, saving model to ./check_point/best_model_epoch_22_acc_0.73.h5\n"
     ]
    },
    {
     "name": "stderr",
     "output_type": "stream",
     "text": [
      "WARNING:absl:You are saving your model as an HDF5 file via `model.save()` or `keras.saving.save_model(model)`. This file format is considered legacy. We recommend using instead the native Keras format, e.g. `model.save('my_model.keras')` or `keras.saving.save_model(model, 'my_model.keras')`. \n"
     ]
    },
    {
     "name": "stdout",
     "output_type": "stream",
     "text": [
      "71/71 - 66s - 934ms/step - accuracy: 0.9836 - loss: 0.0493 - val_accuracy: 0.7289 - val_loss: 1.4129\n",
      "Epoch 23/30\n",
      "\n",
      "Epoch 23: val_accuracy improved from 0.72889 to 0.73778, saving model to ./check_point/best_model_epoch_23_acc_0.74.h5\n"
     ]
    },
    {
     "name": "stderr",
     "output_type": "stream",
     "text": [
      "WARNING:absl:You are saving your model as an HDF5 file via `model.save()` or `keras.saving.save_model(model)`. This file format is considered legacy. We recommend using instead the native Keras format, e.g. `model.save('my_model.keras')` or `keras.saving.save_model(model, 'my_model.keras')`. \n"
     ]
    },
    {
     "name": "stdout",
     "output_type": "stream",
     "text": [
      "71/71 - 65s - 922ms/step - accuracy: 0.9884 - loss: 0.0553 - val_accuracy: 0.7378 - val_loss: 0.9819\n",
      "Epoch 24/30\n",
      "\n",
      "Epoch 24: val_accuracy did not improve from 0.73778\n",
      "71/71 - 65s - 922ms/step - accuracy: 0.9644 - loss: 0.1324 - val_accuracy: 0.6467 - val_loss: 1.9521\n",
      "Epoch 25/30\n",
      "\n",
      "Epoch 25: val_accuracy did not improve from 0.73778\n",
      "71/71 - 65s - 912ms/step - accuracy: 0.9560 - loss: 0.1606 - val_accuracy: 0.5133 - val_loss: 1.9967\n",
      "Epoch 26/30\n",
      "\n",
      "Epoch 26: val_accuracy did not improve from 0.73778\n",
      "71/71 - 66s - 923ms/step - accuracy: 0.8742 - loss: 0.3638 - val_accuracy: 0.5556 - val_loss: 1.5659\n",
      "Epoch 27/30\n",
      "\n",
      "Epoch 27: val_accuracy did not improve from 0.73778\n",
      "71/71 - 65s - 914ms/step - accuracy: 0.9547 - loss: 0.1225 - val_accuracy: 0.4600 - val_loss: 3.7296\n",
      "Epoch 28/30\n",
      "\n",
      "Epoch 28: val_accuracy did not improve from 0.73778\n",
      "71/71 - 66s - 924ms/step - accuracy: 0.9760 - loss: 0.0631 - val_accuracy: 0.6978 - val_loss: 1.3019\n",
      "Epoch 29/30\n",
      "\n",
      "Epoch 29: val_accuracy did not improve from 0.73778\n",
      "71/71 - 65s - 917ms/step - accuracy: 0.9836 - loss: 0.0449 - val_accuracy: 0.6533 - val_loss: 1.7140\n",
      "Epoch 30/30\n",
      "\n",
      "Epoch 30: val_accuracy did not improve from 0.73778\n",
      "71/71 - 66s - 930ms/step - accuracy: 0.9867 - loss: 0.0414 - val_accuracy: 0.7133 - val_loss: 1.1400\n"
     ]
    }
   ],
   "source": [
    "from tensorflow.keras.callbacks import ModelCheckpoint\n",
    "\n",
    "checkpoint = ModelCheckpoint(\n",
    "    filepath='./check_point/best_model_epoch_{epoch:02d}_acc_{val_accuracy:.2f}.h5',      # Tên file lưu model tốt nhất\n",
    "    monitor='val_accuracy',        # Chọn tiêu chí để đánh giá \"tốt nhất\"\n",
    "    save_best_only=True,           # Chỉ lưu khi tốt hơn trước\n",
    "    mode='max',                    # Nếu dùng 'val_accuracy' => 'max'; nếu 'val_loss' => 'min'\n",
    "    verbose=2\n",
    ")\n",
    "\n",
    "model = tf.keras.Model(inputs, outputs)\n",
    "\n",
    "model.compile(optimizer=\"adam\", loss=\"categorical_crossentropy\", metrics=[\"accuracy\"] )\n",
    "\n",
    "model.summary()\n",
    "\n",
    "hist = model.fit(train_x, train_y,validation_data=(val_x, val_y), epochs=30, verbose=2,callbacks=[checkpoint])"
   ]
  },
  {
   "cell_type": "code",
   "execution_count": 37,
   "id": "7532abf6",
   "metadata": {},
   "outputs": [],
   "source": [
    "# Lưu toàn bộ mô hình (kiến trúc + trọng số)\n",
    "model.save(\"./model/efficientnet_model_best.keras\")\n"
   ]
  },
  {
   "cell_type": "code",
   "execution_count": 51,
   "id": "95b2db5c",
   "metadata": {},
   "outputs": [
    {
     "ename": "OSError",
     "evalue": "[Errno 22] Unable to synchronously open file (unable to open file: name = './check_point/check_point\best_model_epoch_23_acc_0.74.h5', errno = 22, error message = 'Invalid argument', flags = 0, o_flags = 0)",
     "output_type": "error",
     "traceback": [
      "\u001b[1;31m---------------------------------------------------------------------------\u001b[0m",
      "\u001b[1;31mOSError\u001b[0m                                   Traceback (most recent call last)",
      "Cell \u001b[1;32mIn[51], line 3\u001b[0m\n\u001b[0;32m      1\u001b[0m \u001b[38;5;28;01mfrom\u001b[39;00m\u001b[38;5;250m \u001b[39m\u001b[38;5;21;01mtensorflow\u001b[39;00m\u001b[38;5;21;01m.\u001b[39;00m\u001b[38;5;21;01mkeras\u001b[39;00m\u001b[38;5;21;01m.\u001b[39;00m\u001b[38;5;21;01mmodels\u001b[39;00m\u001b[38;5;250m \u001b[39m\u001b[38;5;28;01mimport\u001b[39;00m load_model\n\u001b[1;32m----> 3\u001b[0m efficientnet_model \u001b[38;5;241m=\u001b[39m \u001b[43mload_model\u001b[49m\u001b[43m(\u001b[49m\u001b[38;5;124;43m\"\u001b[39;49m\u001b[38;5;124;43m./check_point/check_point\u001b[39;49m\u001b[38;5;130;43;01m\\b\u001b[39;49;00m\u001b[38;5;124;43mest_model_epoch_23_acc_0.74.h5\u001b[39;49m\u001b[38;5;124;43m\"\u001b[39;49m\u001b[43m)\u001b[49m\n",
      "File \u001b[1;32md:\\classified_music\\.venv\\lib\\site-packages\\keras\\src\\saving\\saving_api.py:196\u001b[0m, in \u001b[0;36mload_model\u001b[1;34m(filepath, custom_objects, compile, safe_mode)\u001b[0m\n\u001b[0;32m    189\u001b[0m     \u001b[38;5;28;01mreturn\u001b[39;00m saving_lib\u001b[38;5;241m.\u001b[39mload_model(\n\u001b[0;32m    190\u001b[0m         filepath,\n\u001b[0;32m    191\u001b[0m         custom_objects\u001b[38;5;241m=\u001b[39mcustom_objects,\n\u001b[0;32m    192\u001b[0m         \u001b[38;5;28mcompile\u001b[39m\u001b[38;5;241m=\u001b[39m\u001b[38;5;28mcompile\u001b[39m,\n\u001b[0;32m    193\u001b[0m         safe_mode\u001b[38;5;241m=\u001b[39msafe_mode,\n\u001b[0;32m    194\u001b[0m     )\n\u001b[0;32m    195\u001b[0m \u001b[38;5;28;01mif\u001b[39;00m \u001b[38;5;28mstr\u001b[39m(filepath)\u001b[38;5;241m.\u001b[39mendswith((\u001b[38;5;124m\"\u001b[39m\u001b[38;5;124m.h5\u001b[39m\u001b[38;5;124m\"\u001b[39m, \u001b[38;5;124m\"\u001b[39m\u001b[38;5;124m.hdf5\u001b[39m\u001b[38;5;124m\"\u001b[39m)):\n\u001b[1;32m--> 196\u001b[0m     \u001b[38;5;28;01mreturn\u001b[39;00m \u001b[43mlegacy_h5_format\u001b[49m\u001b[38;5;241;43m.\u001b[39;49m\u001b[43mload_model_from_hdf5\u001b[49m\u001b[43m(\u001b[49m\n\u001b[0;32m    197\u001b[0m \u001b[43m        \u001b[49m\u001b[43mfilepath\u001b[49m\u001b[43m,\u001b[49m\u001b[43m \u001b[49m\u001b[43mcustom_objects\u001b[49m\u001b[38;5;241;43m=\u001b[39;49m\u001b[43mcustom_objects\u001b[49m\u001b[43m,\u001b[49m\u001b[43m \u001b[49m\u001b[38;5;28;43mcompile\u001b[39;49m\u001b[38;5;241;43m=\u001b[39;49m\u001b[38;5;28;43mcompile\u001b[39;49m\n\u001b[0;32m    198\u001b[0m \u001b[43m    \u001b[49m\u001b[43m)\u001b[49m\n\u001b[0;32m    199\u001b[0m \u001b[38;5;28;01melif\u001b[39;00m \u001b[38;5;28mstr\u001b[39m(filepath)\u001b[38;5;241m.\u001b[39mendswith(\u001b[38;5;124m\"\u001b[39m\u001b[38;5;124m.keras\u001b[39m\u001b[38;5;124m\"\u001b[39m):\n\u001b[0;32m    200\u001b[0m     \u001b[38;5;28;01mraise\u001b[39;00m \u001b[38;5;167;01mValueError\u001b[39;00m(\n\u001b[0;32m    201\u001b[0m         \u001b[38;5;124mf\u001b[39m\u001b[38;5;124m\"\u001b[39m\u001b[38;5;124mFile not found: filepath=\u001b[39m\u001b[38;5;132;01m{\u001b[39;00mfilepath\u001b[38;5;132;01m}\u001b[39;00m\u001b[38;5;124m. \u001b[39m\u001b[38;5;124m\"\u001b[39m\n\u001b[0;32m    202\u001b[0m         \u001b[38;5;124m\"\u001b[39m\u001b[38;5;124mPlease ensure the file is an accessible `.keras` \u001b[39m\u001b[38;5;124m\"\u001b[39m\n\u001b[0;32m    203\u001b[0m         \u001b[38;5;124m\"\u001b[39m\u001b[38;5;124mzip file.\u001b[39m\u001b[38;5;124m\"\u001b[39m\n\u001b[0;32m    204\u001b[0m     )\n",
      "File \u001b[1;32md:\\classified_music\\.venv\\lib\\site-packages\\keras\\src\\legacy\\saving\\legacy_h5_format.py:116\u001b[0m, in \u001b[0;36mload_model_from_hdf5\u001b[1;34m(filepath, custom_objects, compile)\u001b[0m\n\u001b[0;32m    114\u001b[0m opened_new_file \u001b[38;5;241m=\u001b[39m \u001b[38;5;129;01mnot\u001b[39;00m \u001b[38;5;28misinstance\u001b[39m(filepath, h5py\u001b[38;5;241m.\u001b[39mFile)\n\u001b[0;32m    115\u001b[0m \u001b[38;5;28;01mif\u001b[39;00m opened_new_file:\n\u001b[1;32m--> 116\u001b[0m     f \u001b[38;5;241m=\u001b[39m \u001b[43mh5py\u001b[49m\u001b[38;5;241;43m.\u001b[39;49m\u001b[43mFile\u001b[49m\u001b[43m(\u001b[49m\u001b[43mfilepath\u001b[49m\u001b[43m,\u001b[49m\u001b[43m \u001b[49m\u001b[43mmode\u001b[49m\u001b[38;5;241;43m=\u001b[39;49m\u001b[38;5;124;43m\"\u001b[39;49m\u001b[38;5;124;43mr\u001b[39;49m\u001b[38;5;124;43m\"\u001b[39;49m\u001b[43m)\u001b[49m\n\u001b[0;32m    117\u001b[0m \u001b[38;5;28;01melse\u001b[39;00m:\n\u001b[0;32m    118\u001b[0m     f \u001b[38;5;241m=\u001b[39m filepath\n",
      "File \u001b[1;32md:\\classified_music\\.venv\\lib\\site-packages\\h5py\\_hl\\files.py:564\u001b[0m, in \u001b[0;36mFile.__init__\u001b[1;34m(self, name, mode, driver, libver, userblock_size, swmr, rdcc_nslots, rdcc_nbytes, rdcc_w0, track_order, fs_strategy, fs_persist, fs_threshold, fs_page_size, page_buf_size, min_meta_keep, min_raw_keep, locking, alignment_threshold, alignment_interval, meta_block_size, **kwds)\u001b[0m\n\u001b[0;32m    555\u001b[0m     fapl \u001b[38;5;241m=\u001b[39m make_fapl(driver, libver, rdcc_nslots, rdcc_nbytes, rdcc_w0,\n\u001b[0;32m    556\u001b[0m                      locking, page_buf_size, min_meta_keep, min_raw_keep,\n\u001b[0;32m    557\u001b[0m                      alignment_threshold\u001b[38;5;241m=\u001b[39malignment_threshold,\n\u001b[0;32m    558\u001b[0m                      alignment_interval\u001b[38;5;241m=\u001b[39malignment_interval,\n\u001b[0;32m    559\u001b[0m                      meta_block_size\u001b[38;5;241m=\u001b[39mmeta_block_size,\n\u001b[0;32m    560\u001b[0m                      \u001b[38;5;241m*\u001b[39m\u001b[38;5;241m*\u001b[39mkwds)\n\u001b[0;32m    561\u001b[0m     fcpl \u001b[38;5;241m=\u001b[39m make_fcpl(track_order\u001b[38;5;241m=\u001b[39mtrack_order, fs_strategy\u001b[38;5;241m=\u001b[39mfs_strategy,\n\u001b[0;32m    562\u001b[0m                      fs_persist\u001b[38;5;241m=\u001b[39mfs_persist, fs_threshold\u001b[38;5;241m=\u001b[39mfs_threshold,\n\u001b[0;32m    563\u001b[0m                      fs_page_size\u001b[38;5;241m=\u001b[39mfs_page_size)\n\u001b[1;32m--> 564\u001b[0m     fid \u001b[38;5;241m=\u001b[39m \u001b[43mmake_fid\u001b[49m\u001b[43m(\u001b[49m\u001b[43mname\u001b[49m\u001b[43m,\u001b[49m\u001b[43m \u001b[49m\u001b[43mmode\u001b[49m\u001b[43m,\u001b[49m\u001b[43m \u001b[49m\u001b[43muserblock_size\u001b[49m\u001b[43m,\u001b[49m\u001b[43m \u001b[49m\u001b[43mfapl\u001b[49m\u001b[43m,\u001b[49m\u001b[43m \u001b[49m\u001b[43mfcpl\u001b[49m\u001b[43m,\u001b[49m\u001b[43m \u001b[49m\u001b[43mswmr\u001b[49m\u001b[38;5;241;43m=\u001b[39;49m\u001b[43mswmr\u001b[49m\u001b[43m)\u001b[49m\n\u001b[0;32m    566\u001b[0m \u001b[38;5;28;01mif\u001b[39;00m \u001b[38;5;28misinstance\u001b[39m(libver, \u001b[38;5;28mtuple\u001b[39m):\n\u001b[0;32m    567\u001b[0m     \u001b[38;5;28mself\u001b[39m\u001b[38;5;241m.\u001b[39m_libver \u001b[38;5;241m=\u001b[39m libver\n",
      "File \u001b[1;32md:\\classified_music\\.venv\\lib\\site-packages\\h5py\\_hl\\files.py:238\u001b[0m, in \u001b[0;36mmake_fid\u001b[1;34m(name, mode, userblock_size, fapl, fcpl, swmr)\u001b[0m\n\u001b[0;32m    236\u001b[0m     \u001b[38;5;28;01mif\u001b[39;00m swmr \u001b[38;5;129;01mand\u001b[39;00m swmr_support:\n\u001b[0;32m    237\u001b[0m         flags \u001b[38;5;241m|\u001b[39m\u001b[38;5;241m=\u001b[39m h5f\u001b[38;5;241m.\u001b[39mACC_SWMR_READ\n\u001b[1;32m--> 238\u001b[0m     fid \u001b[38;5;241m=\u001b[39m \u001b[43mh5f\u001b[49m\u001b[38;5;241;43m.\u001b[39;49m\u001b[43mopen\u001b[49m\u001b[43m(\u001b[49m\u001b[43mname\u001b[49m\u001b[43m,\u001b[49m\u001b[43m \u001b[49m\u001b[43mflags\u001b[49m\u001b[43m,\u001b[49m\u001b[43m \u001b[49m\u001b[43mfapl\u001b[49m\u001b[38;5;241;43m=\u001b[39;49m\u001b[43mfapl\u001b[49m\u001b[43m)\u001b[49m\n\u001b[0;32m    239\u001b[0m \u001b[38;5;28;01melif\u001b[39;00m mode \u001b[38;5;241m==\u001b[39m \u001b[38;5;124m'\u001b[39m\u001b[38;5;124mr+\u001b[39m\u001b[38;5;124m'\u001b[39m:\n\u001b[0;32m    240\u001b[0m     fid \u001b[38;5;241m=\u001b[39m h5f\u001b[38;5;241m.\u001b[39mopen(name, h5f\u001b[38;5;241m.\u001b[39mACC_RDWR, fapl\u001b[38;5;241m=\u001b[39mfapl)\n",
      "File \u001b[1;32mh5py/_objects.pyx:56\u001b[0m, in \u001b[0;36mh5py._objects.with_phil.wrapper\u001b[1;34m()\u001b[0m\n",
      "File \u001b[1;32mh5py/_objects.pyx:57\u001b[0m, in \u001b[0;36mh5py._objects.with_phil.wrapper\u001b[1;34m()\u001b[0m\n",
      "File \u001b[1;32mh5py/h5f.pyx:102\u001b[0m, in \u001b[0;36mh5py.h5f.open\u001b[1;34m()\u001b[0m\n",
      "\u001b[1;31mOSError\u001b[0m: [Errno 22] Unable to synchronously open file (unable to open file: name = './check_point/check_point\best_model_epoch_23_acc_0.74.h5', errno = 22, error message = 'Invalid argument', flags = 0, o_flags = 0)"
     ]
    }
   ],
   "source": [
    "from tensorflow.keras.models import load_model\n",
    "\n",
    "efficientnet_model = load_model(\"./check_point/check_point\\best_model_epoch_23_acc_0.74.h5\")"
   ]
  },
  {
   "cell_type": "code",
   "execution_count": 42,
   "id": "2deed418",
   "metadata": {},
   "outputs": [
    {
     "name": "stderr",
     "output_type": "stream",
     "text": [
      "d:\\classified_music\\.venv\\lib\\site-packages\\keras\\src\\saving\\saving_lib.py:802: UserWarning: Skipping variable loading for optimizer 'rmsprop', because it has 215 variables whereas the saved optimizer has 428 variables. \n",
      "  saveable.load_own_variables(weights_store.get(inner_path))\n"
     ]
    },
    {
     "name": "stdout",
     "output_type": "stream",
     "text": [
      "10/10 - 5s - 480ms/step - accuracy: 0.7367 - loss: 1.0615\n",
      "✅ Best Model Test Accuracy: 0.7367\n",
      "📉 Best Model Test Loss: 1.0615\n"
     ]
    }
   ],
   "source": [
    "### test model \n",
    "from tensorflow.keras.models import load_model\n",
    "\n",
    "# Load mô hình tốt nhất\n",
    "best_model = load_model('./model/efficientnet_model_best.keras')\n",
    "\n",
    "# Đánh giá mô hình tốt nhất trên tập test\n",
    "test_loss, test_accuracy = best_model.evaluate(test_x, test_y, verbose=2)\n",
    "\n",
    "print(f\"✅ Best Model Test Accuracy: {test_accuracy:.4f}\")\n",
    "print(f\"📉 Best Model Test Loss: {test_loss:.4f}\")\n"
   ]
  },
  {
   "cell_type": "code",
   "execution_count": 43,
   "id": "62510f1e",
   "metadata": {},
   "outputs": [
    {
     "name": "stdout",
     "output_type": "stream",
     "text": [
      "INFO:tensorflow:Assets written to: C:\\Users\\BHM-KY~1\\AppData\\Local\\Temp\\2\\tmptpj_47nj\\assets\n"
     ]
    },
    {
     "name": "stderr",
     "output_type": "stream",
     "text": [
      "INFO:tensorflow:Assets written to: C:\\Users\\BHM-KY~1\\AppData\\Local\\Temp\\2\\tmptpj_47nj\\assets\n"
     ]
    },
    {
     "name": "stdout",
     "output_type": "stream",
     "text": [
      "Saved artifact at 'C:\\Users\\BHM-KY~1\\AppData\\Local\\Temp\\2\\tmptpj_47nj'. The following endpoints are available:\n",
      "\n",
      "* Endpoint 'serve'\n",
      "  args_0 (POSITIONAL_ONLY): TensorSpec(shape=(None, 224, 224, 3), dtype=tf.float32, name='input_layer_8')\n",
      "Output Type:\n",
      "  TensorSpec(shape=(None, 3), dtype=tf.float32, name=None)\n",
      "Captures:\n",
      "  1745357523600: TensorSpec(shape=(1, 1, 1, 3), dtype=tf.float32, name=None)\n",
      "  1749632012480: TensorSpec(shape=(1, 1, 1, 3), dtype=tf.float32, name=None)\n",
      "  1749751564416: TensorSpec(shape=(), dtype=tf.resource, name=None)\n",
      "  1749751569168: TensorSpec(shape=(), dtype=tf.resource, name=None)\n",
      "  1749751570928: TensorSpec(shape=(), dtype=tf.resource, name=None)\n",
      "  1749751567936: TensorSpec(shape=(), dtype=tf.resource, name=None)\n",
      "  1749751569696: TensorSpec(shape=(), dtype=tf.resource, name=None)\n",
      "  1749751576384: TensorSpec(shape=(), dtype=tf.resource, name=None)\n",
      "  1749751574448: TensorSpec(shape=(), dtype=tf.resource, name=None)\n",
      "  1749751578320: TensorSpec(shape=(), dtype=tf.resource, name=None)\n",
      "  1749751576208: TensorSpec(shape=(), dtype=tf.resource, name=None)\n",
      "  1749751576912: TensorSpec(shape=(), dtype=tf.resource, name=None)\n",
      "  1749751576560: TensorSpec(shape=(), dtype=tf.resource, name=None)\n",
      "  1749752014528: TensorSpec(shape=(), dtype=tf.resource, name=None)\n",
      "  1749752015056: TensorSpec(shape=(), dtype=tf.resource, name=None)\n",
      "  1749752014176: TensorSpec(shape=(), dtype=tf.resource, name=None)\n",
      "  1749752019456: TensorSpec(shape=(), dtype=tf.resource, name=None)\n",
      "  1749752015232: TensorSpec(shape=(), dtype=tf.resource, name=None)\n",
      "  1749752015936: TensorSpec(shape=(), dtype=tf.resource, name=None)\n",
      "  1749752020512: TensorSpec(shape=(), dtype=tf.resource, name=None)\n",
      "  1749752019632: TensorSpec(shape=(), dtype=tf.resource, name=None)\n",
      "  1749751271440: TensorSpec(shape=(), dtype=tf.resource, name=None)\n",
      "  1749751272672: TensorSpec(shape=(), dtype=tf.resource, name=None)\n",
      "  1749751276016: TensorSpec(shape=(), dtype=tf.resource, name=None)\n",
      "  1749751272848: TensorSpec(shape=(), dtype=tf.resource, name=None)\n",
      "  1749751271792: TensorSpec(shape=(), dtype=tf.resource, name=None)\n",
      "  1749751281120: TensorSpec(shape=(), dtype=tf.resource, name=None)\n",
      "  1749751278304: TensorSpec(shape=(), dtype=tf.resource, name=None)\n",
      "  1749751278480: TensorSpec(shape=(), dtype=tf.resource, name=None)\n",
      "  1749751282000: TensorSpec(shape=(), dtype=tf.resource, name=None)\n",
      "  1749751278128: TensorSpec(shape=(), dtype=tf.resource, name=None)\n",
      "  1749751282704: TensorSpec(shape=(), dtype=tf.resource, name=None)\n",
      "  1749752505344: TensorSpec(shape=(), dtype=tf.resource, name=None)\n",
      "  1749752508160: TensorSpec(shape=(), dtype=tf.resource, name=None)\n",
      "  1749752505872: TensorSpec(shape=(), dtype=tf.resource, name=None)\n",
      "  1749752510448: TensorSpec(shape=(), dtype=tf.resource, name=None)\n",
      "  1749752512208: TensorSpec(shape=(), dtype=tf.resource, name=None)\n",
      "  1749752511680: TensorSpec(shape=(), dtype=tf.resource, name=None)\n",
      "  1749752510976: TensorSpec(shape=(), dtype=tf.resource, name=None)\n",
      "  1749752905792: TensorSpec(shape=(), dtype=tf.resource, name=None)\n",
      "  1749752912128: TensorSpec(shape=(), dtype=tf.resource, name=None)\n",
      "  1749752910192: TensorSpec(shape=(), dtype=tf.resource, name=None)\n",
      "  1749752914064: TensorSpec(shape=(), dtype=tf.resource, name=None)\n",
      "  1749752911952: TensorSpec(shape=(), dtype=tf.resource, name=None)\n",
      "  1749752912656: TensorSpec(shape=(), dtype=tf.resource, name=None)\n",
      "  1749752919696: TensorSpec(shape=(), dtype=tf.resource, name=None)\n",
      "  1749752917760: TensorSpec(shape=(), dtype=tf.resource, name=None)\n",
      "  1749752921632: TensorSpec(shape=(), dtype=tf.resource, name=None)\n",
      "  1749752919520: TensorSpec(shape=(), dtype=tf.resource, name=None)\n",
      "  1749752920224: TensorSpec(shape=(), dtype=tf.resource, name=None)\n",
      "  1749752919872: TensorSpec(shape=(), dtype=tf.resource, name=None)\n",
      "  1749752995984: TensorSpec(shape=(), dtype=tf.resource, name=None)\n",
      "  1749752998800: TensorSpec(shape=(), dtype=tf.resource, name=None)\n",
      "  1749752996512: TensorSpec(shape=(), dtype=tf.resource, name=None)\n",
      "  1749753003200: TensorSpec(shape=(), dtype=tf.resource, name=None)\n",
      "  1749752998976: TensorSpec(shape=(), dtype=tf.resource, name=None)\n",
      "  1749752997920: TensorSpec(shape=(), dtype=tf.resource, name=None)\n",
      "  1749753002848: TensorSpec(shape=(), dtype=tf.resource, name=None)\n",
      "  1749753002320: TensorSpec(shape=(), dtype=tf.resource, name=None)\n",
      "  1749753079840: TensorSpec(shape=(), dtype=tf.resource, name=None)\n",
      "  1749753078080: TensorSpec(shape=(), dtype=tf.resource, name=None)\n",
      "  1749753080016: TensorSpec(shape=(), dtype=tf.resource, name=None)\n",
      "  1749753077024: TensorSpec(shape=(), dtype=tf.resource, name=None)\n",
      "  1749753079488: TensorSpec(shape=(), dtype=tf.resource, name=None)\n",
      "  1749753084944: TensorSpec(shape=(), dtype=tf.resource, name=None)\n",
      "  1749753154896: TensorSpec(shape=(), dtype=tf.resource, name=None)\n",
      "  1749753153488: TensorSpec(shape=(), dtype=tf.resource, name=None)\n",
      "  1749753154544: TensorSpec(shape=(), dtype=tf.resource, name=None)\n",
      "  1749753154016: TensorSpec(shape=(), dtype=tf.resource, name=None)\n",
      "  1749753163520: TensorSpec(shape=(), dtype=tf.resource, name=None)\n",
      "  1749753162640: TensorSpec(shape=(), dtype=tf.resource, name=None)\n",
      "  1749753167568: TensorSpec(shape=(), dtype=tf.resource, name=None)\n",
      "  1749753160176: TensorSpec(shape=(), dtype=tf.resource, name=None)\n",
      "  1749753161584: TensorSpec(shape=(), dtype=tf.resource, name=None)\n",
      "  1749753269232: TensorSpec(shape=(), dtype=tf.resource, name=None)\n",
      "  1749753272400: TensorSpec(shape=(), dtype=tf.resource, name=None)\n",
      "  1749753270816: TensorSpec(shape=(), dtype=tf.resource, name=None)\n",
      "  1749753270288: TensorSpec(shape=(), dtype=tf.resource, name=None)\n",
      "  1749753277328: TensorSpec(shape=(), dtype=tf.resource, name=None)\n",
      "  1749753273456: TensorSpec(shape=(), dtype=tf.resource, name=None)\n",
      "  1749753278208: TensorSpec(shape=(), dtype=tf.resource, name=None)\n",
      "  1749753277152: TensorSpec(shape=(), dtype=tf.resource, name=None)\n",
      "  1749753276800: TensorSpec(shape=(), dtype=tf.resource, name=None)\n",
      "  1749753282080: TensorSpec(shape=(), dtype=tf.resource, name=None)\n",
      "  1749753281376: TensorSpec(shape=(), dtype=tf.resource, name=None)\n",
      "  1749752824752: TensorSpec(shape=(), dtype=tf.resource, name=None)\n",
      "  1749752826160: TensorSpec(shape=(), dtype=tf.resource, name=None)\n",
      "  1749752825632: TensorSpec(shape=(), dtype=tf.resource, name=None)\n",
      "  1749752835312: TensorSpec(shape=(), dtype=tf.resource, name=None)\n",
      "  1749752833200: TensorSpec(shape=(), dtype=tf.resource, name=None)\n",
      "  1749752838128: TensorSpec(shape=(), dtype=tf.resource, name=None)\n",
      "  1749752835840: TensorSpec(shape=(), dtype=tf.resource, name=None)\n",
      "  1749752834784: TensorSpec(shape=(), dtype=tf.resource, name=None)\n",
      "  1749752595200: TensorSpec(shape=(), dtype=tf.resource, name=None)\n",
      "  1749752600304: TensorSpec(shape=(), dtype=tf.resource, name=None)\n",
      "  1749752598720: TensorSpec(shape=(), dtype=tf.resource, name=None)\n",
      "  1749752598368: TensorSpec(shape=(), dtype=tf.resource, name=None)\n",
      "  1749752606640: TensorSpec(shape=(), dtype=tf.resource, name=None)\n",
      "  1749752605056: TensorSpec(shape=(), dtype=tf.resource, name=None)\n",
      "  1749752608048: TensorSpec(shape=(), dtype=tf.resource, name=None)\n",
      "  1749752606816: TensorSpec(shape=(), dtype=tf.resource, name=None)\n",
      "  1749752605760: TensorSpec(shape=(), dtype=tf.resource, name=None)\n",
      "  1749752606464: TensorSpec(shape=(), dtype=tf.resource, name=None)\n",
      "  1749752679584: TensorSpec(shape=(), dtype=tf.resource, name=None)\n",
      "  1749752682224: TensorSpec(shape=(), dtype=tf.resource, name=None)\n",
      "  1749752683104: TensorSpec(shape=(), dtype=tf.resource, name=None)\n",
      "  1749752681168: TensorSpec(shape=(), dtype=tf.resource, name=None)\n",
      "  1749752690496: TensorSpec(shape=(), dtype=tf.resource, name=None)\n",
      "  1749752681344: TensorSpec(shape=(), dtype=tf.resource, name=None)\n",
      "  1749752689792: TensorSpec(shape=(), dtype=tf.resource, name=None)\n",
      "  1749752688736: TensorSpec(shape=(), dtype=tf.resource, name=None)\n",
      "  1749752689088: TensorSpec(shape=(), dtype=tf.resource, name=None)\n",
      "  1749752746528: TensorSpec(shape=(), dtype=tf.resource, name=None)\n",
      "  1749752749872: TensorSpec(shape=(), dtype=tf.resource, name=None)\n",
      "  1749752747936: TensorSpec(shape=(), dtype=tf.resource, name=None)\n",
      "  1749752748992: TensorSpec(shape=(), dtype=tf.resource, name=None)\n",
      "  1749752754624: TensorSpec(shape=(), dtype=tf.resource, name=None)\n",
      "  1749752752688: TensorSpec(shape=(), dtype=tf.resource, name=None)\n",
      "  1749752756736: TensorSpec(shape=(), dtype=tf.resource, name=None)\n",
      "  1749752754096: TensorSpec(shape=(), dtype=tf.resource, name=None)\n",
      "  1749752755152: TensorSpec(shape=(), dtype=tf.resource, name=None)\n",
      "  1749752754800: TensorSpec(shape=(), dtype=tf.resource, name=None)\n",
      "  1748425819760: TensorSpec(shape=(), dtype=tf.resource, name=None)\n",
      "  1748425823984: TensorSpec(shape=(), dtype=tf.resource, name=None)\n",
      "  1748425821168: TensorSpec(shape=(), dtype=tf.resource, name=None)\n",
      "  1748425823632: TensorSpec(shape=(), dtype=tf.resource, name=None)\n",
      "  1748425833312: TensorSpec(shape=(), dtype=tf.resource, name=None)\n",
      "  1748425832256: TensorSpec(shape=(), dtype=tf.resource, name=None)\n",
      "  1748425832960: TensorSpec(shape=(), dtype=tf.resource, name=None)\n",
      "  1748425831024: TensorSpec(shape=(), dtype=tf.resource, name=None)\n",
      "  1748425833664: TensorSpec(shape=(), dtype=tf.resource, name=None)\n",
      "  1748425887408: TensorSpec(shape=(), dtype=tf.resource, name=None)\n",
      "  1748425891280: TensorSpec(shape=(), dtype=tf.resource, name=None)\n",
      "  1748425889168: TensorSpec(shape=(), dtype=tf.resource, name=None)\n",
      "  1748425889872: TensorSpec(shape=(), dtype=tf.resource, name=None)\n",
      "  1748425898848: TensorSpec(shape=(), dtype=tf.resource, name=None)\n",
      "  1748425895680: TensorSpec(shape=(), dtype=tf.resource, name=None)\n",
      "  1748425895504: TensorSpec(shape=(), dtype=tf.resource, name=None)\n",
      "  1748425898496: TensorSpec(shape=(), dtype=tf.resource, name=None)\n",
      "  1748425895856: TensorSpec(shape=(), dtype=tf.resource, name=None)\n",
      "  1748425988528: TensorSpec(shape=(), dtype=tf.resource, name=None)\n",
      "  1748425986592: TensorSpec(shape=(), dtype=tf.resource, name=None)\n",
      "  1748425990464: TensorSpec(shape=(), dtype=tf.resource, name=None)\n",
      "  1748425988352: TensorSpec(shape=(), dtype=tf.resource, name=None)\n",
      "  1748425989056: TensorSpec(shape=(), dtype=tf.resource, name=None)\n",
      "  1748425996976: TensorSpec(shape=(), dtype=tf.resource, name=None)\n",
      "  1748425996272: TensorSpec(shape=(), dtype=tf.resource, name=None)\n",
      "  1748425995920: TensorSpec(shape=(), dtype=tf.resource, name=None)\n",
      "  1748426100400: TensorSpec(shape=(), dtype=tf.resource, name=None)\n",
      "  1748426104800: TensorSpec(shape=(), dtype=tf.resource, name=None)\n",
      "  1748426102864: TensorSpec(shape=(), dtype=tf.resource, name=None)\n",
      "  1748426106736: TensorSpec(shape=(), dtype=tf.resource, name=None)\n",
      "  1748426104624: TensorSpec(shape=(), dtype=tf.resource, name=None)\n",
      "  1748426105328: TensorSpec(shape=(), dtype=tf.resource, name=None)\n",
      "  1748426112192: TensorSpec(shape=(), dtype=tf.resource, name=None)\n",
      "  1748426181440: TensorSpec(shape=(), dtype=tf.resource, name=None)\n",
      "  1748426180384: TensorSpec(shape=(), dtype=tf.resource, name=None)\n",
      "  1748426180032: TensorSpec(shape=(), dtype=tf.resource, name=None)\n",
      "  1748426180912: TensorSpec(shape=(), dtype=tf.resource, name=None)\n",
      "  1748426187600: TensorSpec(shape=(), dtype=tf.resource, name=None)\n",
      "  1748426185664: TensorSpec(shape=(), dtype=tf.resource, name=None)\n",
      "  1748426189536: TensorSpec(shape=(), dtype=tf.resource, name=None)\n",
      "  1748426187424: TensorSpec(shape=(), dtype=tf.resource, name=None)\n",
      "  1748426188128: TensorSpec(shape=(), dtype=tf.resource, name=None)\n",
      "  1748426187776: TensorSpec(shape=(), dtype=tf.resource, name=None)\n",
      "  1748426295952: TensorSpec(shape=(), dtype=tf.resource, name=None)\n",
      "  1748426300000: TensorSpec(shape=(), dtype=tf.resource, name=None)\n",
      "  1748426296304: TensorSpec(shape=(), dtype=tf.resource, name=None)\n",
      "  1748426304400: TensorSpec(shape=(), dtype=tf.resource, name=None)\n",
      "  1748426300704: TensorSpec(shape=(), dtype=tf.resource, name=None)\n",
      "  1748426305984: TensorSpec(shape=(), dtype=tf.resource, name=None)\n",
      "  1748426302464: TensorSpec(shape=(), dtype=tf.resource, name=None)\n",
      "  1748426304224: TensorSpec(shape=(), dtype=tf.resource, name=None)\n",
      "  1748426307392: TensorSpec(shape=(), dtype=tf.resource, name=None)\n",
      "  1748426308976: TensorSpec(shape=(), dtype=tf.resource, name=None)\n",
      "  1748426344224: TensorSpec(shape=(), dtype=tf.resource, name=None)\n",
      "  1748426309152: TensorSpec(shape=(), dtype=tf.resource, name=None)\n",
      "  1748426342464: TensorSpec(shape=(), dtype=tf.resource, name=None)\n",
      "  1748426352144: TensorSpec(shape=(), dtype=tf.resource, name=None)\n",
      "  1748426348272: TensorSpec(shape=(), dtype=tf.resource, name=None)\n",
      "  1748426353024: TensorSpec(shape=(), dtype=tf.resource, name=None)\n",
      "  1748426351968: TensorSpec(shape=(), dtype=tf.resource, name=None)\n",
      "  1748426351616: TensorSpec(shape=(), dtype=tf.resource, name=None)\n",
      "  1748426350384: TensorSpec(shape=(), dtype=tf.resource, name=None)\n",
      "  1748426357776: TensorSpec(shape=(), dtype=tf.resource, name=None)\n",
      "  1748426357952: TensorSpec(shape=(), dtype=tf.resource, name=None)\n",
      "  1748425512160: TensorSpec(shape=(), dtype=tf.resource, name=None)\n",
      "  1748425516560: TensorSpec(shape=(), dtype=tf.resource, name=None)\n",
      "  1748425514624: TensorSpec(shape=(), dtype=tf.resource, name=None)\n",
      "  1748425518496: TensorSpec(shape=(), dtype=tf.resource, name=None)\n",
      "  1748425516384: TensorSpec(shape=(), dtype=tf.resource, name=None)\n",
      "  1748425517088: TensorSpec(shape=(), dtype=tf.resource, name=None)\n",
      "  1748425519728: TensorSpec(shape=(), dtype=tf.resource, name=None)\n",
      "  1748425622624: TensorSpec(shape=(), dtype=tf.resource, name=None)\n",
      "  1748425626496: TensorSpec(shape=(), dtype=tf.resource, name=None)\n",
      "  1748425624384: TensorSpec(shape=(), dtype=tf.resource, name=None)\n",
      "  1748425625088: TensorSpec(shape=(), dtype=tf.resource, name=None)\n",
      "  1748425632128: TensorSpec(shape=(), dtype=tf.resource, name=None)\n",
      "  1748425630192: TensorSpec(shape=(), dtype=tf.resource, name=None)\n",
      "  1748425634064: TensorSpec(shape=(), dtype=tf.resource, name=None)\n",
      "  1748425631952: TensorSpec(shape=(), dtype=tf.resource, name=None)\n",
      "  1748425632656: TensorSpec(shape=(), dtype=tf.resource, name=None)\n",
      "  1748425632304: TensorSpec(shape=(), dtype=tf.resource, name=None)\n",
      "  1748425692032: TensorSpec(shape=(), dtype=tf.resource, name=None)\n",
      "  1748425694848: TensorSpec(shape=(), dtype=tf.resource, name=None)\n",
      "  1748425692560: TensorSpec(shape=(), dtype=tf.resource, name=None)\n",
      "  1748425699248: TensorSpec(shape=(), dtype=tf.resource, name=None)\n",
      "  1748425697312: TensorSpec(shape=(), dtype=tf.resource, name=None)\n",
      "  1748425701184: TensorSpec(shape=(), dtype=tf.resource, name=None)\n",
      "  1748425699072: TensorSpec(shape=(), dtype=tf.resource, name=None)\n",
      "  1748425699776: TensorSpec(shape=(), dtype=tf.resource, name=None)\n",
      "  1748425702416: TensorSpec(shape=(), dtype=tf.resource, name=None)\n",
      "  1748426493440: TensorSpec(shape=(), dtype=tf.resource, name=None)\n",
      "  1748426497312: TensorSpec(shape=(), dtype=tf.resource, name=None)\n",
      "  1748426495200: TensorSpec(shape=(), dtype=tf.resource, name=None)\n",
      "  1748426495904: TensorSpec(shape=(), dtype=tf.resource, name=None)\n",
      "  1748426504528: TensorSpec(shape=(), dtype=tf.resource, name=None)\n",
      "  1748426502592: TensorSpec(shape=(), dtype=tf.resource, name=None)\n",
      "  1748426501184: TensorSpec(shape=(), dtype=tf.resource, name=None)\n",
      "  1748426504352: TensorSpec(shape=(), dtype=tf.resource, name=None)\n",
      "  1748426505056: TensorSpec(shape=(), dtype=tf.resource, name=None)\n",
      "  1748426629968: TensorSpec(shape=(), dtype=tf.resource, name=None)\n",
      "  1748426621344: TensorSpec(shape=(), dtype=tf.resource, name=None)\n",
      "  1748426632784: TensorSpec(shape=(), dtype=tf.resource, name=None)\n",
      "  1748426630496: TensorSpec(shape=(), dtype=tf.resource, name=None)\n",
      "  1748426635072: TensorSpec(shape=(), dtype=tf.resource, name=None)\n",
      "  1748426637008: TensorSpec(shape=(), dtype=tf.resource, name=None)\n",
      "  1748426633488: TensorSpec(shape=(), dtype=tf.resource, name=None)\n",
      "  1748426636128: TensorSpec(shape=(), dtype=tf.resource, name=None)\n",
      "  1748426686880: TensorSpec(shape=(), dtype=tf.resource, name=None)\n",
      "  1748426692688: TensorSpec(shape=(), dtype=tf.resource, name=None)\n",
      "  1748426690752: TensorSpec(shape=(), dtype=tf.resource, name=None)\n",
      "  1748426694624: TensorSpec(shape=(), dtype=tf.resource, name=None)\n",
      "  1748426692512: TensorSpec(shape=(), dtype=tf.resource, name=None)\n",
      "  1748426693216: TensorSpec(shape=(), dtype=tf.resource, name=None)\n",
      "  1748426700256: TensorSpec(shape=(), dtype=tf.resource, name=None)\n",
      "  1748426698320: TensorSpec(shape=(), dtype=tf.resource, name=None)\n",
      "  1748426702192: TensorSpec(shape=(), dtype=tf.resource, name=None)\n",
      "  1748426700080: TensorSpec(shape=(), dtype=tf.resource, name=None)\n",
      "  1748426700784: TensorSpec(shape=(), dtype=tf.resource, name=None)\n",
      "  1748426700432: TensorSpec(shape=(), dtype=tf.resource, name=None)\n",
      "  1748426760160: TensorSpec(shape=(), dtype=tf.resource, name=None)\n",
      "  1748426762976: TensorSpec(shape=(), dtype=tf.resource, name=None)\n",
      "  1748426760688: TensorSpec(shape=(), dtype=tf.resource, name=None)\n",
      "  1748426767376: TensorSpec(shape=(), dtype=tf.resource, name=None)\n",
      "  1748426763152: TensorSpec(shape=(), dtype=tf.resource, name=None)\n",
      "  1748426762096: TensorSpec(shape=(), dtype=tf.resource, name=None)\n",
      "  1748426767024: TensorSpec(shape=(), dtype=tf.resource, name=None)\n",
      "  1748426766496: TensorSpec(shape=(), dtype=tf.resource, name=None)\n",
      "  1748426842608: TensorSpec(shape=(), dtype=tf.resource, name=None)\n",
      "  1748426840672: TensorSpec(shape=(), dtype=tf.resource, name=None)\n",
      "  1748426844544: TensorSpec(shape=(), dtype=tf.resource, name=None)\n",
      "  1748426842432: TensorSpec(shape=(), dtype=tf.resource, name=None)\n",
      "  1748426843136: TensorSpec(shape=(), dtype=tf.resource, name=None)\n",
      "  1748426848064: TensorSpec(shape=(), dtype=tf.resource, name=None)\n",
      "  1748426850000: TensorSpec(shape=(), dtype=tf.resource, name=None)\n",
      "  1748426847184: TensorSpec(shape=(), dtype=tf.resource, name=None)\n",
      "  1748426849120: TensorSpec(shape=(), dtype=tf.resource, name=None)\n",
      "  1748426932640: TensorSpec(shape=(), dtype=tf.resource, name=None)\n",
      "  1748426942848: TensorSpec(shape=(), dtype=tf.resource, name=None)\n",
      "  1748426940736: TensorSpec(shape=(), dtype=tf.resource, name=None)\n",
      "  1748426945664: TensorSpec(shape=(), dtype=tf.resource, name=None)\n",
      "  1748426943376: TensorSpec(shape=(), dtype=tf.resource, name=None)\n",
      "  1748426947952: TensorSpec(shape=(), dtype=tf.resource, name=None)\n",
      "  1748427048560: TensorSpec(shape=(), dtype=tf.resource, name=None)\n",
      "  1748427049968: TensorSpec(shape=(), dtype=tf.resource, name=None)\n",
      "  1748427048912: TensorSpec(shape=(), dtype=tf.resource, name=None)\n",
      "  1748427049440: TensorSpec(shape=(), dtype=tf.resource, name=None)\n",
      "  1748427058064: TensorSpec(shape=(), dtype=tf.resource, name=None)\n",
      "  1748427056128: TensorSpec(shape=(), dtype=tf.resource, name=None)\n",
      "  1748427060000: TensorSpec(shape=(), dtype=tf.resource, name=None)\n",
      "  1748427057888: TensorSpec(shape=(), dtype=tf.resource, name=None)\n",
      "  1748427058592: TensorSpec(shape=(), dtype=tf.resource, name=None)\n",
      "  1748427058240: TensorSpec(shape=(), dtype=tf.resource, name=None)\n",
      "  1748427145808: TensorSpec(shape=(), dtype=tf.resource, name=None)\n",
      "  1748427149680: TensorSpec(shape=(), dtype=tf.resource, name=None)\n",
      "  1748427148096: TensorSpec(shape=(), dtype=tf.resource, name=None)\n",
      "  1748427148624: TensorSpec(shape=(), dtype=tf.resource, name=None)\n",
      "  1748427158304: TensorSpec(shape=(), dtype=tf.resource, name=None)\n",
      "  1748427156192: TensorSpec(shape=(), dtype=tf.resource, name=None)\n",
      "  1748427161120: TensorSpec(shape=(), dtype=tf.resource, name=None)\n",
      "  1748427155488: TensorSpec(shape=(), dtype=tf.resource, name=None)\n",
      "  1748427157248: TensorSpec(shape=(), dtype=tf.resource, name=None)\n",
      "  1748427229312: TensorSpec(shape=(), dtype=tf.resource, name=None)\n",
      "  1748427233184: TensorSpec(shape=(), dtype=tf.resource, name=None)\n",
      "  1748427231072: TensorSpec(shape=(), dtype=tf.resource, name=None)\n",
      "  1748427231776: TensorSpec(shape=(), dtype=tf.resource, name=None)\n",
      "  1748427240752: TensorSpec(shape=(), dtype=tf.resource, name=None)\n",
      "  1748427238816: TensorSpec(shape=(), dtype=tf.resource, name=None)\n",
      "  1748427242688: TensorSpec(shape=(), dtype=tf.resource, name=None)\n",
      "  1748427240576: TensorSpec(shape=(), dtype=tf.resource, name=None)\n",
      "  1748427241280: TensorSpec(shape=(), dtype=tf.resource, name=None)\n",
      "  1748427240928: TensorSpec(shape=(), dtype=tf.resource, name=None)\n",
      "  1748427312112: TensorSpec(shape=(), dtype=tf.resource, name=None)\n",
      "  1748427315984: TensorSpec(shape=(), dtype=tf.resource, name=None)\n",
      "  1748427313872: TensorSpec(shape=(), dtype=tf.resource, name=None)\n",
      "  1748427314576: TensorSpec(shape=(), dtype=tf.resource, name=None)\n",
      "  1748427324608: TensorSpec(shape=(), dtype=tf.resource, name=None)\n",
      "  1748427314224: TensorSpec(shape=(), dtype=tf.resource, name=None)\n",
      "  1748427321968: TensorSpec(shape=(), dtype=tf.resource, name=None)\n",
      "  1748427321616: TensorSpec(shape=(), dtype=tf.resource, name=None)\n",
      "  1748427323024: TensorSpec(shape=(), dtype=tf.resource, name=None)\n",
      "  1748427379232: TensorSpec(shape=(), dtype=tf.resource, name=None)\n",
      "  1748427383104: TensorSpec(shape=(), dtype=tf.resource, name=None)\n",
      "  1748427380992: TensorSpec(shape=(), dtype=tf.resource, name=None)\n",
      "  1748427381696: TensorSpec(shape=(), dtype=tf.resource, name=None)\n",
      "  1748427387328: TensorSpec(shape=(), dtype=tf.resource, name=None)\n",
      "  1748427385392: TensorSpec(shape=(), dtype=tf.resource, name=None)\n",
      "  1748427389264: TensorSpec(shape=(), dtype=tf.resource, name=None)\n",
      "  1748427387152: TensorSpec(shape=(), dtype=tf.resource, name=None)\n",
      "  1748427387856: TensorSpec(shape=(), dtype=tf.resource, name=None)\n",
      "  1748427389440: TensorSpec(shape=(), dtype=tf.resource, name=None)\n",
      "  1748427526512: TensorSpec(shape=(), dtype=tf.resource, name=None)\n"
     ]
    }
   ],
   "source": [
    "# Convert sang TFLite\n",
    "converter = tf.lite.TFLiteConverter.from_keras_model(efficientnet_model)\n",
    "tflite_model = converter.convert()\n",
    "\n",
    "# Lưu ra file\n",
    "with open(\"./model/efficientnet_model.tflite\", \"wb\") as f:\n",
    "    f.write(tflite_model)\n"
   ]
  },
  {
   "cell_type": "code",
   "execution_count": 44,
   "id": "6156fc33",
   "metadata": {},
   "outputs": [
    {
     "name": "stderr",
     "output_type": "stream",
     "text": [
      "d:\\classified_music\\.venv\\lib\\site-packages\\tensorflow\\lite\\python\\interpreter.py:457: UserWarning:     Warning: tf.lite.Interpreter is deprecated and is scheduled for deletion in\n",
      "    TF 2.20. Please use the LiteRT interpreter from the ai_edge_litert package.\n",
      "    See the [migration guide](https://ai.google.dev/edge/litert/migration)\n",
      "    for details.\n",
      "    \n",
      "  warnings.warn(_INTERPRETER_DELETION_WARNING)\n"
     ]
    }
   ],
   "source": [
    "from tensorflow.keras.models import load_model\n",
    "\n",
    "interpreter = tf.lite.Interpreter(model_path=\"./model/efficientnet_model.tflite\")\n",
    "interpreter.allocate_tensors()"
   ]
  },
  {
   "cell_type": "code",
   "execution_count": null,
   "id": "860d5ecb",
   "metadata": {},
   "outputs": [],
   "source": [
    "import numpy as np\n",
    "from PIL import Image\n",
    "\n",
    "def preprocess_image(image_path, img_size=224):\n",
    "    img = Image.open(image_path).resize((img_size, img_size))\n",
    "    img = img.convert(\"RGB\")\n",
    "    img = np.array(img, dtype=np.float32) / 255.0  # normalize về [0,1]\n",
    "    img = np.expand_dims(img, axis=0)  # (1, 224, 224, 3)\n",
    "    return img"
   ]
  },
  {
   "cell_type": "code",
   "execution_count": 48,
   "id": "f955bb0b",
   "metadata": {},
   "outputs": [
    {
     "name": "stdout",
     "output_type": "stream",
     "text": [
      "🧠 Dự đoán lớp: 0\n",
      "✅ Độ tin cậy: 94.69 %\n"
     ]
    }
   ],
   "source": [
    "\n",
    "import tensorflow as tf\n",
    "import numpy as np\n",
    "from PIL import Image\n",
    "\n",
    "# ======= Cấu hình ============\n",
    "MODEL_PATH = \"./model/efficientnet_model.tflite\"\n",
    "IMAGE_PATH = r\"D:\\classified_music\\dataset\\bolero\\Bông_Ô_Môi_BeeBoss_part2_part1.png\"\n",
    "IMG_SIZE = 224\n",
    "NUM_CLASSES = 3  # sửa lại theo mô hình bạn\n",
    "\n",
    "# ======= Tiền xử lý ảnh ============\n",
    "def preprocess_image(image_path, img_size):\n",
    "    img = Image.open(image_path).convert(\"RGB\")\n",
    "    img = img.resize((img_size, img_size))\n",
    "    img_array = np.array(img, dtype=np.float32) / 255.0  # normalize về [0, 1]\n",
    "    img_array = np.expand_dims(img_array, axis=0)  # thêm batch dimension: (1, 224, 224, 3)\n",
    "    return img_array\n",
    "\n",
    "# ======= Load model ============\n",
    "interpreter = tf.lite.Interpreter(model_path=MODEL_PATH)\n",
    "interpreter.allocate_tensors()\n",
    "\n",
    "input_details = interpreter.get_input_details()\n",
    "output_details = interpreter.get_output_details()\n",
    "\n",
    "# ======= Load và chạy ảnh test ============\n",
    "input_data = preprocess_image(IMAGE_PATH, IMG_SIZE)\n",
    "\n",
    "# Đưa ảnh vào model\n",
    "interpreter.set_tensor(input_details[0]['index'], input_data)\n",
    "\n",
    "# Chạy model\n",
    "interpreter.invoke()\n",
    "\n",
    "# Lấy kết quả đầu ra\n",
    "output_data = interpreter.get_tensor(output_details[0]['index'])  # shape: (1, NUM_CLASSES)\n",
    "predicted_class = np.argmax(output_data)\n",
    "confidence = np.max(output_data)\n",
    "\n",
    "print(\"🧠 Dự đoán lớp:\", predicted_class)\n",
    "print(\"✅ Độ tin cậy:\", round(confidence * 100, 2), \"%\")\n",
    "# bolero : 0 , dan ca:1, pop:2"
   ]
  },
  {
   "cell_type": "code",
   "execution_count": 1,
   "id": "1098e1d3",
   "metadata": {},
   "outputs": [],
   "source": [
    "import zipfile\n",
    "with zipfile.ZipFile(r\"D:\\classified_music\\dowload.zip\", 'r') as zip_ref:\n",
    "    zip_ref.extractall(r\"D:\\classified_music\\dowload\")"
   ]
  },
  {
   "cell_type": "code",
   "execution_count": 1,
   "id": "c3abe772",
   "metadata": {},
   "outputs": [
    {
     "name": "stdout",
     "output_type": "stream",
     "text": [
      "✅ Dữ liệu đã được chia đều và random.\n"
     ]
    }
   ],
   "source": [
    "import os\n",
    "import shutil\n",
    "import random\n",
    "\n",
    "# Cấu hình\n",
    "input_dir = r\"D:\\classified_music\\data\"  # thư mục gốc chứa các class\n",
    "output_dir = r\"D:\\classified_music\\dataset\"  # thư mục lưu train/val/test\n",
    "train_ratio = 0.6\n",
    "val_ratio = 0.25\n",
    "test_ratio = 0.15\n",
    "\n",
    "assert train_ratio + val_ratio + test_ratio == 1.0, \"Tổng tỉ lệ phải = 1.0\"\n",
    "\n",
    "# Tạo thư mục output\n",
    "for split in ['train', 'val', 'test']:\n",
    "    os.makedirs(os.path.join(output_dir, split), exist_ok=True)\n",
    "\n",
    "# Duyệt qua từng class\n",
    "for class_name in os.listdir(input_dir):\n",
    "    class_path = os.path.join(input_dir, class_name)\n",
    "    if not os.path.isdir(class_path):\n",
    "        continue\n",
    "\n",
    "    # Danh sách ảnh và shuffle ngẫu nhiên\n",
    "    images = [f for f in os.listdir(class_path) if os.path.isfile(os.path.join(class_path, f))]\n",
    "    random.shuffle(images)\n",
    "\n",
    "    total = len(images)\n",
    "    train_count = int(total * train_ratio)\n",
    "    val_count = int(total * val_ratio)\n",
    "    test_count = total - train_count - val_count  # còn lại\n",
    "\n",
    "    split_data = {\n",
    "        'train': images[:train_count],\n",
    "        'val': images[train_count:train_count + val_count],\n",
    "        'test': images[train_count + val_count:]\n",
    "    }\n",
    "\n",
    "    # Copy từng ảnh sang thư mục tương ứng\n",
    "    for split in ['train', 'val', 'test']:\n",
    "        split_dir = os.path.join(output_dir, split, class_name)\n",
    "        os.makedirs(split_dir, exist_ok=True)\n",
    "        for img_name in split_data[split]:\n",
    "            src_path = os.path.join(class_path, img_name)\n",
    "            dst_path = os.path.join(split_dir, img_name)\n",
    "            shutil.copyfile(src_path, dst_path)\n",
    "\n",
    "print(\"✅ Dữ liệu đã được chia đều và random.\")\n"
   ]
  }
 ],
 "metadata": {
  "kernelspec": {
   "display_name": ".venv",
   "language": "python",
   "name": "python3"
  },
  "language_info": {
   "codemirror_mode": {
    "name": "ipython",
    "version": 3
   },
   "file_extension": ".py",
   "mimetype": "text/x-python",
   "name": "python",
   "nbconvert_exporter": "python",
   "pygments_lexer": "ipython3",
   "version": "3.10.10"
  }
 },
 "nbformat": 4,
 "nbformat_minor": 5
}
