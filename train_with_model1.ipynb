{
 "cells": [
  {
   "cell_type": "code",
   "execution_count": 1,
   "id": "1e274d8d",
   "metadata": {},
   "outputs": [],
   "source": [
    "import numpy as np \n",
    "import PIL as Image\n",
    "import torch \n",
    "import torch.nn as nn\n",
    "from torch.nn import functional as F\n",
    "import torch.optim as optim\n",
    "import torchvision\n",
    "from torch.utils.data import DataLoader\n",
    "from torchvision import datasets, transforms"
   ]
  },
  {
   "cell_type": "code",
   "execution_count": 12,
   "id": "7210d6f3",
   "metadata": {},
   "outputs": [],
   "source": [
    "transform = transforms.Compose([\n",
    "    transforms.Resize((224, 224)),  # resize ảnh về kích thước cố định\n",
    "    transforms.ToTensor(),          # chuyển ảnh thành tensor [0,1]\n",
    "    transforms.Normalize(mean=[0.5, 0.5, 0.5], std=[0.5, 0.5, 0.5])  # chuẩn hóa\n",
    "])\n",
    "\n",
    "train_dataset = datasets.ImageFolder(root=r'D:\\classified_music\\mel-images\\train', transform=transform)\n",
    "val_dataset = datasets.ImageFolder(root=r'D:\\classified_music\\mel-images\\val', transform=transform)"
   ]
  },
  {
   "cell_type": "code",
   "execution_count": 13,
   "id": "3c430c60",
   "metadata": {},
   "outputs": [],
   "source": [
    "train_loader = DataLoader(train_dataset, batch_size=32, shuffle=True, num_workers=2)\n",
    "val_loader = DataLoader(val_dataset, batch_size=32, shuffle=False, num_workers=2)\n"
   ]
  },
  {
   "cell_type": "code",
   "execution_count": 15,
   "id": "5dda56ca",
   "metadata": {},
   "outputs": [],
   "source": [
    "\n",
    "image,label = train_dataset[0]"
   ]
  },
  {
   "cell_type": "code",
   "execution_count": 16,
   "id": "b98b8645",
   "metadata": {},
   "outputs": [
    {
     "data": {
      "text/plain": [
       "torch.Size([3, 224, 224])"
      ]
     },
     "execution_count": 16,
     "metadata": {},
     "output_type": "execute_result"
    }
   ],
   "source": [
    "image.size()"
   ]
  },
  {
   "cell_type": "code",
   "execution_count": 17,
   "id": "ae2387a2",
   "metadata": {},
   "outputs": [
    {
     "name": "stdout",
     "output_type": "stream",
     "text": [
      "['TruTinh', 'bolero', 'cailuong', 'cheo', 'danca']\n"
     ]
    }
   ],
   "source": [
    "class_names = train_dataset.classes\n",
    "print(class_names)\n"
   ]
  },
  {
   "cell_type": "code",
   "execution_count": 39,
   "id": "2279fb8b",
   "metadata": {},
   "outputs": [],
   "source": [
    "class NeueralNet(nn.Module):\n",
    "    def __init__(self):\n",
    "        super().__init__()\n",
    "        self.conv1 = nn.Conv2d(3, 12, 5)\n",
    "        self.pool = nn.MaxPool2d(2, 2)\n",
    "        self.conv2 = nn.Conv2d(12, 24, 5)\n",
    "        self.fc1 = nn.Linear(24 * 53 * 53, 120)\n",
    "        self.fc2 = nn.Linear(120, 84)\n",
    "        self.fc3 = nn.Linear(84, 7)  # <--- CHỈNH SỬA Ở ĐÂY\n",
    "\n",
    "    def forward(self, x):\n",
    "        x = self.pool(F.relu(self.conv1(x)))\n",
    "        x = self.pool(F.relu(self.conv2(x)))\n",
    "        x = torch.flatten(x, 1)\n",
    "        x = F.relu(self.fc1(x))\n",
    "        x = F.relu(self.fc2(x))\n",
    "        x = self.fc3(x)\n",
    "        return x\n"
   ]
  },
  {
   "cell_type": "code",
   "execution_count": 40,
   "id": "b54364df",
   "metadata": {},
   "outputs": [],
   "source": [
    "net  = NeueralNet()\n",
    "loss_function = nn.CrossEntropyLoss()\n",
    "optimizer = optim.SGD(net.parameters(), lr=0.001,momentum=0.9)\n"
   ]
  },
  {
   "cell_type": "code",
   "execution_count": 43,
   "id": "57bd74bf",
   "metadata": {},
   "outputs": [
    {
     "name": "stdout",
     "output_type": "stream",
     "text": [
      "Training epoch 0.....\n",
      "Loss:0.0147\n",
      "Training epoch 1.....\n",
      "Loss:0.0110\n",
      "Training epoch 2.....\n",
      "Loss:0.0116\n",
      "Training epoch 3.....\n",
      "Loss:0.0104\n",
      "Training epoch 4.....\n",
      "Loss:0.0057\n",
      "Training epoch 5.....\n",
      "Loss:0.0057\n",
      "Training epoch 6.....\n",
      "Loss:0.0065\n",
      "Training epoch 7.....\n",
      "Loss:0.0066\n",
      "Training epoch 8.....\n",
      "Loss:0.0025\n",
      "Training epoch 9.....\n",
      "Loss:0.0057\n",
      "Training epoch 10.....\n",
      "Loss:0.0035\n",
      "Training epoch 11.....\n",
      "Loss:0.0022\n",
      "Training epoch 12.....\n",
      "Loss:0.0012\n",
      "Training epoch 13.....\n",
      "Loss:0.0011\n",
      "Training epoch 14.....\n",
      "Loss:0.0011\n",
      "Training epoch 15.....\n",
      "Loss:0.0005\n",
      "Training epoch 16.....\n",
      "Loss:0.0004\n",
      "Training epoch 17.....\n",
      "Loss:0.0002\n",
      "Training epoch 18.....\n",
      "Loss:0.0002\n",
      "Training epoch 19.....\n",
      "Loss:0.0003\n",
      "Training epoch 20.....\n",
      "Loss:0.0000\n",
      "Training epoch 21.....\n",
      "Loss:0.0000\n",
      "Training epoch 22.....\n",
      "Loss:0.0001\n",
      "Training epoch 23.....\n",
      "Loss:0.0000\n",
      "Training epoch 24.....\n",
      "Loss:0.0000\n",
      "Training epoch 25.....\n",
      "Loss:0.0000\n",
      "Training epoch 26.....\n",
      "Loss:0.0000\n",
      "Training epoch 27.....\n",
      "Loss:0.0000\n",
      "Training epoch 28.....\n",
      "Loss:0.0000\n",
      "Training epoch 29.....\n",
      "Loss:0.0000\n"
     ]
    }
   ],
   "source": [
    "for epoch in range(30):\n",
    "    print(f\"Training epoch {epoch}.....\")\n",
    "    runing_loss = 0.0\n",
    "    for i,data in enumerate(train_loader):\n",
    "        inputs,label = data\n",
    "        optimizer.zero_grad()\n",
    "        out_put = net(inputs)\n",
    "        loss= loss_function(out_put,label)\n",
    "        loss.backward()\n",
    "        optimizer.step()\n",
    "        running_loss = loss.item()\n",
    "        \n",
    "    print(f'Loss:{running_loss/len(train_loader):.4f}')"
   ]
  },
  {
   "cell_type": "code",
   "execution_count": null,
   "id": "c696036e",
   "metadata": {},
   "outputs": [],
   "source": []
  }
 ],
 "metadata": {
  "kernelspec": {
   "display_name": ".venv",
   "language": "python",
   "name": "python3"
  },
  "language_info": {
   "codemirror_mode": {
    "name": "ipython",
    "version": 3
   },
   "file_extension": ".py",
   "mimetype": "text/x-python",
   "name": "python",
   "nbconvert_exporter": "python",
   "pygments_lexer": "ipython3",
   "version": "3.10.10"
  }
 },
 "nbformat": 4,
 "nbformat_minor": 5
}
