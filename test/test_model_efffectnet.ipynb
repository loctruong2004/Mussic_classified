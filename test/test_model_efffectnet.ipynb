{
 "cells": [
  {
   "cell_type": "code",
   "execution_count": 1,
   "id": "9f65bf4f",
   "metadata": {},
   "outputs": [
    {
     "name": "stderr",
     "output_type": "stream",
     "text": [
      "d:\\classified_music\\.venv\\lib\\site-packages\\torchvision\\models\\_utils.py:208: UserWarning: The parameter 'pretrained' is deprecated since 0.13 and may be removed in the future, please use 'weights' instead.\n",
      "  warnings.warn(\n",
      "d:\\classified_music\\.venv\\lib\\site-packages\\torchvision\\models\\_utils.py:223: UserWarning: Arguments other than a weight enum or `None` for 'weights' are deprecated since 0.13 and may be removed in the future. The current behavior is equivalent to passing `weights=None`.\n",
      "  warnings.warn(msg)\n"
     ]
    }
   ],
   "source": [
    "import torch\n",
    "from torchvision import models, transforms\n",
    "from PIL import Image\n",
    "\n",
    "# Load model\n",
    "device = torch.device(\"cuda\" if torch.cuda.is_available() else \"cpu\")\n",
    "model = models.efficientnet_b0(pretrained=False)\n",
    "model.classifier[1] = torch.nn.Linear(model.classifier[1].in_features, 6)  # 5 class\n",
    "model.load_state_dict(torch.load(r\"D:\\classified_music\\efficientnet_b0_6_final_smoothing.pth\", map_location=device))\n",
    "model.to(device)\n",
    "model.eval()\n",
    "\n",
    "# Transform ảnh\n",
    "transform = transforms.Compose([\n",
    "    transforms.Resize((224, 224)),\n",
    "    transforms.ToTensor(),\n",
    "    transforms.Normalize([0.485, 0.456, 0.406],\n",
    "                         [0.229, 0.224, 0.225])\n",
    "])\n",
    "\n",
    "# Class names\n",
    "# class_names =  ['bolero', 'cailuong', 'cheo', 'danca', 'nhacdo']"
   ]
  },
  {
   "cell_type": "code",
   "execution_count": 2,
   "id": "d967a024",
   "metadata": {},
   "outputs": [],
   "source": [
    "import os\n",
    "import librosa as lb\n",
    "import soundfile as sf\n",
    "import numpy as np\n",
    "import cv2\n",
    "# class_names = ['CachMang', 'TruTinh', 'bolero', 'cailuong', 'cheo', 'danca', 'nhacxuan']\n",
    "class_names =  ['bolero', 'cailuong', 'cheo', 'danca', 'other', 'thieunhi']\n",
    "img_height,img_width=224,224"
   ]
  },
  {
   "cell_type": "code",
   "execution_count": 3,
   "id": "b3dac8b6",
   "metadata": {},
   "outputs": [],
   "source": [
    "import time,random\n",
    "import os\n",
    "import json\n",
    "import yt_dlp\n",
    "from pydub import AudioSegment\n",
    "import subprocess\n",
    "\n",
    "def download_and_convert_youtube_ffmpeg(link, save_path_wav):\n",
    "    temp_file = save_path_wav.replace('.wav', '.m4a')\n",
    "\n",
    "    ydl_opts = {\n",
    "        'format': 'bestaudio[ext=m4a]/bestaudio/best',\n",
    "        'outtmpl': temp_file,\n",
    "        'quiet': True,\n",
    "        'cookiefile': 'cookie.txt'\n",
    "    }\n",
    "\n",
    "    try:\n",
    "        # Download audio\n",
    "        print(f\"🎵 Đang tải: {link}\")\n",
    "        with yt_dlp.YoutubeDL(ydl_opts) as ydl:\n",
    "            ydl.download([link])\n",
    "        \n",
    "        if not os.path.exists(temp_file):\n",
    "            raise FileNotFoundError(f\"Không tìm thấy file: {temp_file}\")\n",
    "\n",
    "        # Convert bằng ffmpeg\n",
    "        print(f\"🎧 Đang chuyển đổi sang WAV...\")\n",
    "        cmd = [\n",
    "            \"ffmpeg\", \"-y\",\n",
    "            \"-i\", temp_file,\n",
    "            \"-ac\", \"1\",               # mono\n",
    "            \"-ar\", \"16000\",           # sample rate 16kHz\n",
    "            save_path_wav\n",
    "        ]\n",
    "        subprocess.run(cmd, check=True)\n",
    "\n",
    "        os.remove(temp_file)\n",
    "        print(f\"✅ Đã lưu WAV: {save_path_wav}\")\n",
    "    except Exception as e:\n",
    "        print(f\"❌ Lỗi với {link}: {e}\")\n"
   ]
  },
  {
   "cell_type": "code",
   "execution_count": 4,
   "id": "b69013db",
   "metadata": {},
   "outputs": [],
   "source": [
    "import os\n",
    "import librosa as lb\n",
    "import soundfile as sf\n",
    "import numpy as np\n",
    "import matplotlib.pyplot as plt\n",
    "import cv2\n",
    "from PIL import Image\n",
    "import matplotlib.cm as cm\n",
    "import torch.nn.functional as F\n",
    "# Hàm xử lý STFT\n",
    "def get_fft(samples, n_fft=2048, hop_length=512):\n",
    "    for index, item in samples.items():\n",
    "        D = np.abs(lb.stft(item[\"sampling\"], n_fft=n_fft, hop_length=hop_length))\n",
    "        samples[index][\"stft\"] = D\n",
    "    return samples\n",
    "\n",
    "# Hàm xử lý mel spectrogram\n",
    "def get_mel_spectrogram(samples, sr=22050):\n",
    "    for index, item in samples.items():\n",
    "        S = lb.feature.melspectrogram(y=item[\"sampling\"], sr=sr)\n",
    "        S_db = lb.amplitude_to_db(S, ref=np.max)\n",
    "        samples[index][\"mel-spec-db\"] = S_db\n",
    "    return samples\n",
    "\n",
    "# Hàm lưu ảnh mel spectrogram\n",
    "# def save_mel_spec(samples, root):\n",
    "#     image_paths = []\n",
    "#     for index, item in samples.items():\n",
    "#         S_db = item[\"mel-spec-db\"]\n",
    "#         os.makedirs(root, exist_ok=True)\n",
    "\n",
    "\n",
    "#         file_name = os.path.splitext(os.path.basename(item[\"dir\"]))[0]\n",
    "#         out_path = os.path.join(root, file_name + \".png\")\n",
    "#         plt.imsave(out_path, S_db)\n",
    "#         image_paths.append(out_path)\n",
    "#     return image_paths\n",
    "def save_mel_spec(samples, root):\n",
    "    image_paths = []\n",
    "    for index, item in samples.items():\n",
    "        S_db = item[\"mel-spec-db\"]\n",
    "        os.makedirs(root, exist_ok=True)\n",
    "\n",
    "        file_name = os.path.splitext(os.path.basename(item[\"dir\"]))[0]\n",
    "        out_path = os.path.join(root, file_name + \".png\")\n",
    "\n",
    "        # Normalize để đưa về 0–255\n",
    "        S_db_norm = (S_db - S_db.min()) / (S_db.max() - S_db.min())  # 0–1\n",
    "        S_rgb = cm.viridis(S_db_norm)[:, :, :3]  # RGB, bỏ A\n",
    "        S_rgb = (S_rgb * 255).astype(np.uint8)\n",
    "\n",
    "        # Resize về 224x224 rồi lưu\n",
    "        im = Image.fromarray(S_rgb).resize((224, 224))\n",
    "        im.save(out_path)\n",
    "\n",
    "        image_paths.append(out_path)\n",
    "\n",
    "    return image_paths\n",
    "\n",
    "# Hàm chính: predict và sinh ảnh spectrogram\n",
    "def predict(file_path, duration=30):\n",
    "    try:\n",
    "        y, sr = lb.load(file_path, sr=None)\n",
    "    except Exception as e:\n",
    "        print(f\" Lỗi khi load: {file_path} ({e})\")\n",
    "        return\n",
    "\n",
    "    segment_samples = duration * sr\n",
    "    total_samples = len(y)\n",
    "    num_segments = total_samples // segment_samples\n",
    "    base_filename = os.path.splitext(os.path.basename(file_path))[0]\n",
    "    if num_segments == 0:\n",
    "        return\n",
    "\n",
    "    folder_path = os.path.dirname(file_path)\n",
    "\n",
    "    # Folder lưu wav đã cắt\n",
    "    output_folder = os.path.join(folder_path, \"predict\")\n",
    "    os.makedirs(output_folder, exist_ok=True)\n",
    "\n",
    "    samples = {}\n",
    "\n",
    "    for i in range(num_segments):\n",
    "        start = i * segment_samples\n",
    "        end = start + segment_samples\n",
    "        segment = y[start:end]\n",
    "\n",
    "        new_filename = f\"{base_filename}_part{i+1}.wav\"\n",
    "        new_path = os.path.join(output_folder, new_filename)\n",
    "\n",
    "        sf.write(new_path, segment, sr)\n",
    "        samples[i] = {\n",
    "            \"dir\": new_path,\n",
    "            \"sampling\": segment\n",
    "        }\n",
    "\n",
    "    samples = get_fft(samples)\n",
    "    samples = get_mel_spectrogram(samples, sr)\n",
    "\n",
    "    mel_root = os.path.join(output_folder, \"mel-images\")\n",
    "    os.makedirs(mel_root, exist_ok=True)\n",
    "\n",
    "    list_test = save_mel_spec(samples, mel_root)\n",
    "\n",
    "    # === DỰ ĐOÁN TỪ ẢNH MEL ===\n",
    "    print(\"\\n🔍 Đang dự đoán\")\n",
    "    for path in list_test:\n",
    "        image_pil = Image.open(path).convert(\"RGB\") \n",
    "        image_pil = image_pil.resize((224, 224))\n",
    "        # Apply transforms và chuyển sang tensor\n",
    "        image_tensor = transform(image_pil).unsqueeze(0).to(device)\n",
    "\n",
    "        # Dự đoán\n",
    "        with torch.no_grad():\n",
    "            outputs = model(image_tensor)\n",
    "            probs = F.softmax(outputs, dim=1)  # chuyển logits thành xác suất\n",
    "            conf, pred = torch.max(probs, 1)   # lấy class có xác suất cao nhất\n",
    "        \n",
    "            output_class = class_names[pred.item()]\n",
    "            percentage = conf.item() * 100\n",
    "            print(f\"Ảnh {os.path.basename(path)} → Dự đoán: {output_class} ({percentage:.2f}%)\")"
   ]
  },
  {
   "cell_type": "code",
   "execution_count": null,
   "id": "12a9ed37",
   "metadata": {},
   "outputs": [
    {
     "name": "stdout",
     "output_type": "stream",
     "text": [
      "🎵 Đang tải: https://youtu.be/ncJF73mZ2SI?si=-ivhZC-_sFohG7Pi\n",
      "🎧 Đang chuyển đổi sang WAV...                             \n",
      "✅ Đã lưu WAV: D:\\classified_music\\data_test\\cheo\\test3.wav\n"
     ]
    }
   ],
   "source": [
    "download_and_convert_youtube_ffmpeg(\"https://youtu.be/ncJF73mZ2SI?si=-ivhZC-_sFohG7Pi\",r\"D:\\classified_music\\data_test\\cheo\\test3.wav\")"
   ]
  },
  {
   "cell_type": "code",
   "execution_count": 5,
   "id": "dd617d86",
   "metadata": {},
   "outputs": [
    {
     "ename": "PermissionError",
     "evalue": "[WinError 5] Access is denied: 'L:\\\\Trung Tam SX\\\\Audio Files\\\\Giang_Ngoc_Productions\\\\8935285213703\\\\predict'",
     "output_type": "error",
     "traceback": [
      "\u001b[1;31m---------------------------------------------------------------------------\u001b[0m",
      "\u001b[1;31mPermissionError\u001b[0m                           Traceback (most recent call last)",
      "Cell \u001b[1;32mIn[5], line 1\u001b[0m\n\u001b[1;32m----> 1\u001b[0m \u001b[43mpredict\u001b[49m\u001b[43m(\u001b[49m\u001b[38;5;124;43mr\u001b[39;49m\u001b[38;5;124;43m\"\u001b[39;49m\u001b[38;5;124;43mL:\u001b[39;49m\u001b[38;5;124;43m\\\u001b[39;49m\u001b[38;5;124;43mTrung Tam SX\u001b[39;49m\u001b[38;5;124;43m\\\u001b[39;49m\u001b[38;5;124;43mAudio Files\u001b[39;49m\u001b[38;5;124;43m\\\u001b[39;49m\u001b[38;5;124;43mGiang_Ngoc_Productions\u001b[39;49m\u001b[38;5;124;43m\\\u001b[39;49m\u001b[38;5;124;43m8935285213703\u001b[39;49m\u001b[38;5;124;43m\\\u001b[39;49m\u001b[38;5;124;43m8935285213703_1_6.wav\u001b[39;49m\u001b[38;5;124;43m\"\u001b[39;49m\u001b[43m)\u001b[49m\n",
      "Cell \u001b[1;32mIn[4], line 79\u001b[0m, in \u001b[0;36mpredict\u001b[1;34m(file_path, duration)\u001b[0m\n\u001b[0;32m     77\u001b[0m \u001b[38;5;66;03m# Folder lưu wav đã cắt\u001b[39;00m\n\u001b[0;32m     78\u001b[0m output_folder \u001b[38;5;241m=\u001b[39m os\u001b[38;5;241m.\u001b[39mpath\u001b[38;5;241m.\u001b[39mjoin(folder_path, \u001b[38;5;124m\"\u001b[39m\u001b[38;5;124mpredict\u001b[39m\u001b[38;5;124m\"\u001b[39m)\n\u001b[1;32m---> 79\u001b[0m \u001b[43mos\u001b[49m\u001b[38;5;241;43m.\u001b[39;49m\u001b[43mmakedirs\u001b[49m\u001b[43m(\u001b[49m\u001b[43moutput_folder\u001b[49m\u001b[43m,\u001b[49m\u001b[43m \u001b[49m\u001b[43mexist_ok\u001b[49m\u001b[38;5;241;43m=\u001b[39;49m\u001b[38;5;28;43;01mTrue\u001b[39;49;00m\u001b[43m)\u001b[49m\n\u001b[0;32m     81\u001b[0m samples \u001b[38;5;241m=\u001b[39m {}\n\u001b[0;32m     83\u001b[0m \u001b[38;5;28;01mfor\u001b[39;00m i \u001b[38;5;129;01min\u001b[39;00m \u001b[38;5;28mrange\u001b[39m(num_segments):\n",
      "File \u001b[1;32mC:\\Program Files\\Python310\\lib\\os.py:225\u001b[0m, in \u001b[0;36mmakedirs\u001b[1;34m(name, mode, exist_ok)\u001b[0m\n\u001b[0;32m    223\u001b[0m         \u001b[38;5;28;01mreturn\u001b[39;00m\n\u001b[0;32m    224\u001b[0m \u001b[38;5;28;01mtry\u001b[39;00m:\n\u001b[1;32m--> 225\u001b[0m     \u001b[43mmkdir\u001b[49m\u001b[43m(\u001b[49m\u001b[43mname\u001b[49m\u001b[43m,\u001b[49m\u001b[43m \u001b[49m\u001b[43mmode\u001b[49m\u001b[43m)\u001b[49m\n\u001b[0;32m    226\u001b[0m \u001b[38;5;28;01mexcept\u001b[39;00m \u001b[38;5;167;01mOSError\u001b[39;00m:\n\u001b[0;32m    227\u001b[0m     \u001b[38;5;66;03m# Cannot rely on checking for EEXIST, since the operating system\u001b[39;00m\n\u001b[0;32m    228\u001b[0m     \u001b[38;5;66;03m# could give priority to other errors like EACCES or EROFS\u001b[39;00m\n\u001b[0;32m    229\u001b[0m     \u001b[38;5;28;01mif\u001b[39;00m \u001b[38;5;129;01mnot\u001b[39;00m exist_ok \u001b[38;5;129;01mor\u001b[39;00m \u001b[38;5;129;01mnot\u001b[39;00m path\u001b[38;5;241m.\u001b[39misdir(name):\n",
      "\u001b[1;31mPermissionError\u001b[0m: [WinError 5] Access is denied: 'L:\\\\Trung Tam SX\\\\Audio Files\\\\Giang_Ngoc_Productions\\\\8935285213703\\\\predict'"
     ]
    }
   ],
   "source": [
    "predict(r\"L:\\Trung Tam SX\\Audio Files\\Giang_Ngoc_Productions\\8935285213703\\8935285213703_1_6.wav\")"
   ]
  },
  {
   "cell_type": "markdown",
   "id": "818a593c",
   "metadata": {},
   "source": []
  },
  {
   "cell_type": "code",
   "execution_count": 38,
   "id": "1a96b0d3",
   "metadata": {},
   "outputs": [
    {
     "name": "stdout",
     "output_type": "stream",
     "text": [
      "🎵 Đang tải: https://youtu.be/TEVjPTCoXAc?si=L4VKl4kMTyLK27XI\n",
      "🎧 Đang chuyển đổi sang WAV...                           \n",
      "✅ Đã lưu WAV: D:\\classified_music\\data_test\\thieunhi\\thieunhi_test6.wav\n"
     ]
    }
   ],
   "source": [
    "download_and_convert_youtube_ffmpeg(\"https://youtu.be/TEVjPTCoXAc?si=L4VKl4kMTyLK27XI\",r\"D:\\classified_music\\data_test\\thieunhi\\thieunhi_test6.wav\")"
   ]
  },
  {
   "cell_type": "code",
   "execution_count": 6,
   "id": "251982f8",
   "metadata": {},
   "outputs": [
    {
     "name": "stdout",
     "output_type": "stream",
     "text": [
      "\n",
      "🔍 Đang dự đoán\n",
      "Ảnh Con heo đất_part1.png → Dự đoán: thieunhi (88.05%)\n",
      "Ảnh Con heo đất_part2.png → Dự đoán: thieunhi (88.27%)\n",
      "Ảnh Con heo đất_part3.png → Dự đoán: thieunhi (90.85%)\n",
      "Ảnh Con heo đất_part4.png → Dự đoán: thieunhi (81.28%)\n",
      "Ảnh Con heo đất_part5.png → Dự đoán: thieunhi (80.44%)\n",
      "Ảnh Con heo đất_part6.png → Dự đoán: thieunhi (88.87%)\n"
     ]
    }
   ],
   "source": [
    "predict(r\"C:\\Users\\BHM-KyThuat\\Desktop\\Con heo đất.wav\")"
   ]
  },
  {
   "cell_type": "code",
   "execution_count": null,
   "id": "f410681f",
   "metadata": {},
   "outputs": [],
   "source": [
    "download_and_convert_youtube(\"https://youtu.be/pqZ7940oZVs?si=CFlDiV23IHgxBLkG\",r\"D:\\classified_music\\data_test\\cheo\\cheo_test1.wav\")"
   ]
  },
  {
   "cell_type": "code",
   "execution_count": 8,
   "id": "8bbd2d1b",
   "metadata": {},
   "outputs": [
    {
     "name": "stdout",
     "output_type": "stream",
     "text": [
      "\n",
      "🔍 Đang dự đoán\n",
      "Ảnh cheo_test1_part1.png → Dự đoán: cheo (99.95%)\n",
      "Ảnh cheo_test1_part2.png → Dự đoán: cheo (99.98%)\n",
      "Ảnh cheo_test1_part3.png → Dự đoán: cheo (100.00%)\n",
      "Ảnh cheo_test1_part4.png → Dự đoán: cheo (100.00%)\n",
      "Ảnh cheo_test1_part5.png → Dự đoán: cheo (99.90%)\n",
      "Ảnh cheo_test1_part6.png → Dự đoán: cheo (99.99%)\n",
      "Ảnh cheo_test1_part7.png → Dự đoán: cheo (100.00%)\n",
      "Ảnh cheo_test1_part8.png → Dự đoán: cheo (100.00%)\n",
      "Ảnh cheo_test1_part9.png → Dự đoán: cheo (99.99%)\n",
      "Ảnh cheo_test1_part10.png → Dự đoán: cheo (99.98%)\n",
      "Ảnh cheo_test1_part11.png → Dự đoán: cheo (99.99%)\n",
      "Ảnh cheo_test1_part12.png → Dự đoán: cheo (99.97%)\n",
      "Ảnh cheo_test1_part13.png → Dự đoán: cheo (100.00%)\n",
      "Ảnh cheo_test1_part14.png → Dự đoán: cheo (99.99%)\n",
      "Ảnh cheo_test1_part15.png → Dự đoán: cheo (100.00%)\n",
      "Ảnh cheo_test1_part16.png → Dự đoán: cheo (100.00%)\n",
      "Ảnh cheo_test1_part17.png → Dự đoán: cheo (100.00%)\n",
      "Ảnh cheo_test1_part18.png → Dự đoán: cheo (99.78%)\n",
      "Ảnh cheo_test1_part19.png → Dự đoán: cheo (98.42%)\n",
      "Ảnh cheo_test1_part20.png → Dự đoán: cheo (99.84%)\n",
      "Ảnh cheo_test1_part21.png → Dự đoán: cheo (63.16%)\n",
      "Ảnh cheo_test1_part22.png → Dự đoán: cheo (98.97%)\n",
      "Ảnh cheo_test1_part23.png → Dự đoán: cheo (84.77%)\n",
      "Ảnh cheo_test1_part24.png → Dự đoán: cheo (98.68%)\n",
      "Ảnh cheo_test1_part25.png → Dự đoán: cheo (100.00%)\n",
      "Ảnh cheo_test1_part26.png → Dự đoán: cheo (99.99%)\n",
      "Ảnh cheo_test1_part27.png → Dự đoán: cheo (100.00%)\n",
      "Ảnh cheo_test1_part28.png → Dự đoán: cheo (100.00%)\n",
      "Ảnh cheo_test1_part29.png → Dự đoán: cheo (100.00%)\n",
      "Ảnh cheo_test1_part30.png → Dự đoán: cheo (99.99%)\n",
      "Ảnh cheo_test1_part31.png → Dự đoán: cheo (100.00%)\n",
      "Ảnh cheo_test1_part32.png → Dự đoán: cheo (99.26%)\n",
      "Ảnh cheo_test1_part33.png → Dự đoán: cailuong (51.47%)\n",
      "Ảnh cheo_test1_part34.png → Dự đoán: cheo (99.82%)\n",
      "Ảnh cheo_test1_part35.png → Dự đoán: cheo (99.99%)\n",
      "Ảnh cheo_test1_part36.png → Dự đoán: cheo (100.00%)\n",
      "Ảnh cheo_test1_part37.png → Dự đoán: cheo (100.00%)\n",
      "Ảnh cheo_test1_part38.png → Dự đoán: cheo (99.90%)\n",
      "Ảnh cheo_test1_part39.png → Dự đoán: cheo (99.99%)\n",
      "Ảnh cheo_test1_part40.png → Dự đoán: cheo (100.00%)\n",
      "Ảnh cheo_test1_part41.png → Dự đoán: cheo (100.00%)\n",
      "Ảnh cheo_test1_part42.png → Dự đoán: cheo (100.00%)\n",
      "Ảnh cheo_test1_part43.png → Dự đoán: cheo (100.00%)\n",
      "Ảnh cheo_test1_part44.png → Dự đoán: cheo (99.93%)\n",
      "Ảnh cheo_test1_part45.png → Dự đoán: cheo (93.11%)\n",
      "Ảnh cheo_test1_part46.png → Dự đoán: cheo (99.99%)\n",
      "Ảnh cheo_test1_part47.png → Dự đoán: cheo (99.98%)\n",
      "Ảnh cheo_test1_part48.png → Dự đoán: cheo (100.00%)\n",
      "Ảnh cheo_test1_part49.png → Dự đoán: cheo (100.00%)\n",
      "Ảnh cheo_test1_part50.png → Dự đoán: cheo (99.99%)\n",
      "Ảnh cheo_test1_part51.png → Dự đoán: cheo (97.72%)\n",
      "Ảnh cheo_test1_part52.png → Dự đoán: cheo (99.75%)\n",
      "Ảnh cheo_test1_part53.png → Dự đoán: cheo (98.17%)\n",
      "Ảnh cheo_test1_part54.png → Dự đoán: cheo (100.00%)\n",
      "Ảnh cheo_test1_part55.png → Dự đoán: cheo (99.82%)\n",
      "Ảnh cheo_test1_part56.png → Dự đoán: cheo (100.00%)\n",
      "Ảnh cheo_test1_part57.png → Dự đoán: cheo (100.00%)\n",
      "Ảnh cheo_test1_part58.png → Dự đoán: cheo (99.99%)\n",
      "Ảnh cheo_test1_part59.png → Dự đoán: cheo (99.99%)\n",
      "Ảnh cheo_test1_part60.png → Dự đoán: cheo (98.28%)\n",
      "Ảnh cheo_test1_part61.png → Dự đoán: cheo (100.00%)\n",
      "Ảnh cheo_test1_part62.png → Dự đoán: cheo (100.00%)\n",
      "Ảnh cheo_test1_part63.png → Dự đoán: cheo (99.99%)\n",
      "Ảnh cheo_test1_part64.png → Dự đoán: cheo (99.98%)\n",
      "Ảnh cheo_test1_part65.png → Dự đoán: cheo (100.00%)\n",
      "Ảnh cheo_test1_part66.png → Dự đoán: cheo (100.00%)\n",
      "Ảnh cheo_test1_part67.png → Dự đoán: cheo (100.00%)\n",
      "Ảnh cheo_test1_part68.png → Dự đoán: cheo (100.00%)\n",
      "Ảnh cheo_test1_part69.png → Dự đoán: cheo (97.36%)\n",
      "Ảnh cheo_test1_part70.png → Dự đoán: cheo (98.72%)\n",
      "Ảnh cheo_test1_part71.png → Dự đoán: cheo (99.98%)\n",
      "Ảnh cheo_test1_part72.png → Dự đoán: cheo (99.97%)\n",
      "Ảnh cheo_test1_part73.png → Dự đoán: cheo (99.98%)\n",
      "Ảnh cheo_test1_part74.png → Dự đoán: cheo (98.33%)\n",
      "Ảnh cheo_test1_part75.png → Dự đoán: cheo (100.00%)\n",
      "Ảnh cheo_test1_part76.png → Dự đoán: cheo (99.63%)\n",
      "Ảnh cheo_test1_part77.png → Dự đoán: danca (87.84%)\n",
      "Ảnh cheo_test1_part78.png → Dự đoán: danca (71.86%)\n",
      "Ảnh cheo_test1_part79.png → Dự đoán: cheo (94.61%)\n",
      "Ảnh cheo_test1_part80.png → Dự đoán: danca (58.27%)\n",
      "Ảnh cheo_test1_part81.png → Dự đoán: cheo (99.96%)\n",
      "Ảnh cheo_test1_part82.png → Dự đoán: cheo (97.37%)\n",
      "Ảnh cheo_test1_part83.png → Dự đoán: cheo (99.54%)\n",
      "Ảnh cheo_test1_part84.png → Dự đoán: cheo (99.94%)\n",
      "Ảnh cheo_test1_part85.png → Dự đoán: cheo (100.00%)\n",
      "Ảnh cheo_test1_part86.png → Dự đoán: cheo (100.00%)\n",
      "Ảnh cheo_test1_part87.png → Dự đoán: cheo (100.00%)\n",
      "Ảnh cheo_test1_part88.png → Dự đoán: cheo (99.99%)\n",
      "Ảnh cheo_test1_part89.png → Dự đoán: cheo (100.00%)\n",
      "Ảnh cheo_test1_part90.png → Dự đoán: cheo (100.00%)\n",
      "Ảnh cheo_test1_part91.png → Dự đoán: cheo (100.00%)\n",
      "Ảnh cheo_test1_part92.png → Dự đoán: cheo (100.00%)\n",
      "Ảnh cheo_test1_part93.png → Dự đoán: cheo (100.00%)\n",
      "Ảnh cheo_test1_part94.png → Dự đoán: cheo (84.91%)\n",
      "Ảnh cheo_test1_part95.png → Dự đoán: cheo (99.99%)\n",
      "Ảnh cheo_test1_part96.png → Dự đoán: cheo (99.83%)\n",
      "Ảnh cheo_test1_part97.png → Dự đoán: cheo (99.50%)\n",
      "Ảnh cheo_test1_part98.png → Dự đoán: cheo (99.72%)\n",
      "Ảnh cheo_test1_part99.png → Dự đoán: cheo (99.83%)\n",
      "Ảnh cheo_test1_part100.png → Dự đoán: cheo (99.92%)\n",
      "Ảnh cheo_test1_part101.png → Dự đoán: cheo (99.93%)\n",
      "Ảnh cheo_test1_part102.png → Dự đoán: cheo (99.98%)\n",
      "Ảnh cheo_test1_part103.png → Dự đoán: cheo (64.73%)\n",
      "Ảnh cheo_test1_part104.png → Dự đoán: cheo (98.86%)\n",
      "Ảnh cheo_test1_part105.png → Dự đoán: cheo (94.23%)\n",
      "Ảnh cheo_test1_part106.png → Dự đoán: cheo (99.10%)\n",
      "Ảnh cheo_test1_part107.png → Dự đoán: cheo (94.19%)\n",
      "Ảnh cheo_test1_part108.png → Dự đoán: cheo (89.85%)\n"
     ]
    }
   ],
   "source": [
    "predict(r\"D:\\classified_music\\data_test\\cheo\\cheo_test1.wav\")"
   ]
  },
  {
   "cell_type": "code",
   "execution_count": null,
   "id": "364cc47b",
   "metadata": {},
   "outputs": [],
   "source": [
    "download_and_convert_youtube_ffmpeg(\"https://youtu.be/L2nvb9QveRM?si=qfaZtvVujwGzI1CT\",r\"D:\\classified_music\\data_test\\cailuong\\cailuong_test1.wav\")"
   ]
  },
  {
   "cell_type": "code",
   "execution_count": null,
   "id": "bf521c0c",
   "metadata": {},
   "outputs": [],
   "source": [
    "predict(\"D:\\classified_music\\data_test\\dan ca\\Em_Về_Miệt_Thứ_Hương_Lan.wav\")"
   ]
  },
  {
   "cell_type": "code",
   "execution_count": null,
   "id": "5a4e402b",
   "metadata": {},
   "outputs": [],
   "source": [
    "download_and_convert_youtube_ffmpeg(\"https://youtu.be/dLNZRV0JhA4?si=x-28L0IjWTnYs50W\",r\"D:\\classified_music\\data_test\\cailuong\\cailuong_xua.wav\")"
   ]
  },
  {
   "cell_type": "code",
   "execution_count": null,
   "id": "56e4c559",
   "metadata": {},
   "outputs": [],
   "source": [
    "predict(\"D:\\classified_music\\data_test\\cailuong\\cailuong_xua.wav\")"
   ]
  },
  {
   "cell_type": "code",
   "execution_count": null,
   "id": "ac46d1bd",
   "metadata": {},
   "outputs": [],
   "source": [
    "download_and_convert_youtube_ffmpeg(\"https://youtu.be/SmIA6O7G01s?si=KH6tR8i-fN9BxnpH\",r\"D:\\classified_music\\data_test\\bolero\\bolero_test1.wav\")"
   ]
  },
  {
   "cell_type": "code",
   "execution_count": null,
   "id": "acad8095",
   "metadata": {},
   "outputs": [],
   "source": [
    "predict(r\"D:\\classified_music\\data_test\\bolero\\bolero_test1.wav\")"
   ]
  },
  {
   "cell_type": "code",
   "execution_count": null,
   "id": "e73fb68c",
   "metadata": {},
   "outputs": [],
   "source": [
    "download_and_convert_youtube_ffmpeg(\"https://youtu.be/_bh1t8zmW80?si=jHGnnKiGuXXmUII8\",r\"D:\\classified_music\\data_test\\bolero\\bolero_test2.wav\")"
   ]
  },
  {
   "cell_type": "code",
   "execution_count": null,
   "id": "476600ec",
   "metadata": {},
   "outputs": [],
   "source": [
    "predict(r\"D:\\classified_music\\data_test\\bolero\\bolero_test2.wav\")"
   ]
  },
  {
   "cell_type": "code",
   "execution_count": null,
   "id": "699e0f49",
   "metadata": {},
   "outputs": [],
   "source": [
    "download_and_convert_youtube_ffmpeg(\"https://youtu.be/elV7q58D6w4?si=2e5LseESxrgzad53\",r\"D:\\classified_music\\data_test\\nhac xuan\\xuan_test1.wav\")"
   ]
  },
  {
   "cell_type": "code",
   "execution_count": null,
   "id": "0d1a22e7",
   "metadata": {},
   "outputs": [],
   "source": [
    "predict(r\"D:\\classified_music\\data_test\\nhac xuan\\xuan_test1.wav\")"
   ]
  },
  {
   "cell_type": "code",
   "execution_count": null,
   "id": "e2cc7b60",
   "metadata": {},
   "outputs": [],
   "source": [
    "download_and_convert_youtube_ffmpeg(\"https://youtu.be/HIu5-z0_lzs?si=PcLd4nSlEAfPFr_L\",r\"D:\\classified_music\\data_test\\nhac_do\\test1.wav\")"
   ]
  },
  {
   "cell_type": "code",
   "execution_count": null,
   "id": "3bc82326",
   "metadata": {},
   "outputs": [],
   "source": [
    "predict(r\"D:\\classified_music\\data_test\\nhac_do\\test1.wav\")"
   ]
  },
  {
   "cell_type": "code",
   "execution_count": null,
   "id": "9569fa7e",
   "metadata": {},
   "outputs": [],
   "source": [
    "download_and_convert_youtube_ffmpeg(\"https://youtu.be/2EBWjBMTfUo?si=YE7lHgnwbuwtHEj1\",r\"D:\\classified_music\\data_test\\pop\\test.wav\")"
   ]
  },
  {
   "cell_type": "code",
   "execution_count": 9,
   "id": "5fcb878d",
   "metadata": {},
   "outputs": [
    {
     "name": "stdout",
     "output_type": "stream",
     "text": [
      "\n",
      "🔍 Đang dự đoán\n",
      "Ảnh test_part1.png → Dự đoán: nhacdo (92.02%)\n",
      "Ảnh test_part2.png → Dự đoán: nhacdo (98.25%)\n",
      "Ảnh test_part3.png → Dự đoán: nhacdo (94.89%)\n",
      "Ảnh test_part4.png → Dự đoán: nhacdo (78.44%)\n",
      "Ảnh test_part5.png → Dự đoán: nhacdo (97.97%)\n"
     ]
    }
   ],
   "source": [
    "predict(r\"D:\\classified_music\\data_test\\pop\\test.wav\")"
   ]
  },
  {
   "cell_type": "code",
   "execution_count": 9,
   "id": "d26ce081",
   "metadata": {},
   "outputs": [
    {
     "name": "stdout",
     "output_type": "stream",
     "text": [
      "🎵 Đang tải: https://youtu.be/EyvBWee-ECw?si=1x7K_u7tDRewnVRp\n",
      "🎧 Đang chuyển đổi sang WAV...                             \n",
      "✅ Đã lưu WAV: D:\\classified_music\\data_test\\thieunhi\\thieunhi_test5.wav\n"
     ]
    }
   ],
   "source": [
    "download_and_convert_youtube_ffmpeg(\"https://youtu.be/EyvBWee-ECw?si=1x7K_u7tDRewnVRp\",r\"D:\\classified_music\\data_test\\thieunhi\\thieunhi_test5.wav\")"
   ]
  },
  {
   "cell_type": "code",
   "execution_count": 10,
   "id": "578d4444",
   "metadata": {},
   "outputs": [
    {
     "name": "stdout",
     "output_type": "stream",
     "text": [
      "🎵 Đang tải: https://youtu.be/hzgmksoMExQ?si=CIp2RWzlZGgRDE7x\n",
      "🎧 Đang chuyển đổi sang WAV...                             \n",
      "✅ Đã lưu WAV: D:\\classified_music\\data_test\\remix.wav\n"
     ]
    }
   ],
   "source": [
    "download_and_convert_youtube_ffmpeg(\"https://youtu.be/hzgmksoMExQ?si=CIp2RWzlZGgRDE7x\",r\"D:\\classified_music\\data_test\\remix.wav\")"
   ]
  },
  {
   "cell_type": "code",
   "execution_count": 12,
   "id": "02c16c26",
   "metadata": {},
   "outputs": [
    {
     "name": "stdout",
     "output_type": "stream",
     "text": [
      "\n",
      "🔍 Đang dự đoán\n",
      "Ảnh remix_part1.png → Dự đoán: nhacdo (98.63%)\n",
      "Ảnh remix_part2.png → Dự đoán: nhacdo (97.90%)\n",
      "Ảnh remix_part3.png → Dự đoán: nhacdo (99.99%)\n",
      "Ảnh remix_part4.png → Dự đoán: nhacdo (99.62%)\n",
      "Ảnh remix_part5.png → Dự đoán: nhacdo (99.95%)\n",
      "Ảnh remix_part6.png → Dự đoán: nhacdo (93.71%)\n",
      "Ảnh remix_part7.png → Dự đoán: nhacdo (99.92%)\n",
      "Ảnh remix_part8.png → Dự đoán: nhacdo (100.00%)\n",
      "Ảnh remix_part9.png → Dự đoán: nhacdo (99.99%)\n",
      "Ảnh remix_part10.png → Dự đoán: nhacdo (100.00%)\n",
      "Ảnh remix_part11.png → Dự đoán: nhacdo (100.00%)\n",
      "Ảnh remix_part12.png → Dự đoán: nhacdo (100.00%)\n",
      "Ảnh remix_part13.png → Dự đoán: cailuong (78.99%)\n",
      "Ảnh remix_part14.png → Dự đoán: nhacdo (74.60%)\n",
      "Ảnh remix_part15.png → Dự đoán: nhacdo (99.94%)\n",
      "Ảnh remix_part16.png → Dự đoán: nhacdo (99.27%)\n",
      "Ảnh remix_part17.png → Dự đoán: nhacdo (84.96%)\n",
      "Ảnh remix_part18.png → Dự đoán: nhacdo (99.90%)\n",
      "Ảnh remix_part19.png → Dự đoán: nhacdo (99.27%)\n",
      "Ảnh remix_part20.png → Dự đoán: nhacdo (96.23%)\n",
      "Ảnh remix_part21.png → Dự đoán: cheo (86.33%)\n",
      "Ảnh remix_part22.png → Dự đoán: nhacdo (97.22%)\n",
      "Ảnh remix_part23.png → Dự đoán: nhacdo (99.93%)\n",
      "Ảnh remix_part24.png → Dự đoán: nhacdo (99.94%)\n",
      "Ảnh remix_part25.png → Dự đoán: nhacdo (99.98%)\n",
      "Ảnh remix_part26.png → Dự đoán: nhacdo (95.91%)\n",
      "Ảnh remix_part27.png → Dự đoán: nhacdo (99.39%)\n",
      "Ảnh remix_part28.png → Dự đoán: nhacdo (96.07%)\n",
      "Ảnh remix_part29.png → Dự đoán: nhacdo (84.33%)\n",
      "Ảnh remix_part30.png → Dự đoán: cheo (96.90%)\n",
      "Ảnh remix_part31.png → Dự đoán: nhacdo (99.81%)\n",
      "Ảnh remix_part32.png → Dự đoán: nhacdo (99.96%)\n",
      "Ảnh remix_part33.png → Dự đoán: nhacdo (99.98%)\n",
      "Ảnh remix_part34.png → Dự đoán: nhacdo (99.94%)\n",
      "Ảnh remix_part35.png → Dự đoán: nhacdo (99.71%)\n",
      "Ảnh remix_part36.png → Dự đoán: nhacdo (59.31%)\n",
      "Ảnh remix_part37.png → Dự đoán: nhacdo (94.73%)\n",
      "Ảnh remix_part38.png → Dự đoán: nhacdo (99.74%)\n",
      "Ảnh remix_part39.png → Dự đoán: nhacdo (100.00%)\n",
      "Ảnh remix_part40.png → Dự đoán: nhacdo (100.00%)\n",
      "Ảnh remix_part41.png → Dự đoán: nhacdo (100.00%)\n",
      "Ảnh remix_part42.png → Dự đoán: nhacdo (100.00%)\n",
      "Ảnh remix_part43.png → Dự đoán: nhacdo (100.00%)\n",
      "Ảnh remix_part44.png → Dự đoán: nhacdo (99.99%)\n",
      "Ảnh remix_part45.png → Dự đoán: nhacdo (99.77%)\n",
      "Ảnh remix_part46.png → Dự đoán: nhacdo (66.33%)\n",
      "Ảnh remix_part47.png → Dự đoán: nhacdo (99.82%)\n",
      "Ảnh remix_part48.png → Dự đoán: nhacdo (99.08%)\n",
      "Ảnh remix_part49.png → Dự đoán: nhacdo (61.65%)\n",
      "Ảnh remix_part50.png → Dự đoán: nhacdo (96.17%)\n",
      "Ảnh remix_part51.png → Dự đoán: nhacdo (99.95%)\n",
      "Ảnh remix_part52.png → Dự đoán: nhacdo (99.91%)\n",
      "Ảnh remix_part53.png → Dự đoán: nhacdo (99.74%)\n",
      "Ảnh remix_part54.png → Dự đoán: nhacdo (58.05%)\n",
      "Ảnh remix_part55.png → Dự đoán: nhacdo (82.47%)\n",
      "Ảnh remix_part56.png → Dự đoán: nhacdo (99.55%)\n",
      "Ảnh remix_part57.png → Dự đoán: nhacdo (93.73%)\n",
      "Ảnh remix_part58.png → Dự đoán: nhacdo (95.91%)\n",
      "Ảnh remix_part59.png → Dự đoán: nhacdo (98.68%)\n",
      "Ảnh remix_part60.png → Dự đoán: nhacdo (98.12%)\n",
      "Ảnh remix_part61.png → Dự đoán: nhacdo (99.87%)\n",
      "Ảnh remix_part62.png → Dự đoán: nhacdo (100.00%)\n",
      "Ảnh remix_part63.png → Dự đoán: nhacdo (99.94%)\n",
      "Ảnh remix_part64.png → Dự đoán: nhacdo (100.00%)\n",
      "Ảnh remix_part65.png → Dự đoán: nhacdo (99.91%)\n",
      "Ảnh remix_part66.png → Dự đoán: nhacdo (100.00%)\n",
      "Ảnh remix_part67.png → Dự đoán: nhacdo (100.00%)\n",
      "Ảnh remix_part68.png → Dự đoán: nhacdo (100.00%)\n",
      "Ảnh remix_part69.png → Dự đoán: nhacdo (99.97%)\n",
      "Ảnh remix_part70.png → Dự đoán: nhacdo (95.82%)\n",
      "Ảnh remix_part71.png → Dự đoán: nhacdo (88.35%)\n",
      "Ảnh remix_part72.png → Dự đoán: nhacdo (99.96%)\n",
      "Ảnh remix_part73.png → Dự đoán: nhacdo (99.99%)\n",
      "Ảnh remix_part74.png → Dự đoán: nhacdo (94.79%)\n",
      "Ảnh remix_part75.png → Dự đoán: nhacdo (99.27%)\n",
      "Ảnh remix_part76.png → Dự đoán: nhacdo (79.48%)\n",
      "Ảnh remix_part77.png → Dự đoán: nhacdo (99.68%)\n",
      "Ảnh remix_part78.png → Dự đoán: nhacdo (99.25%)\n",
      "Ảnh remix_part79.png → Dự đoán: nhacdo (99.77%)\n",
      "Ảnh remix_part80.png → Dự đoán: nhacdo (97.15%)\n",
      "Ảnh remix_part81.png → Dự đoán: nhacdo (99.66%)\n",
      "Ảnh remix_part82.png → Dự đoán: nhacdo (98.51%)\n",
      "Ảnh remix_part83.png → Dự đoán: nhacdo (99.06%)\n",
      "Ảnh remix_part84.png → Dự đoán: nhacdo (98.82%)\n",
      "Ảnh remix_part85.png → Dự đoán: bolero (39.34%)\n",
      "Ảnh remix_part86.png → Dự đoán: nhacdo (97.53%)\n",
      "Ảnh remix_part87.png → Dự đoán: nhacdo (80.99%)\n",
      "Ảnh remix_part88.png → Dự đoán: cailuong (61.65%)\n",
      "Ảnh remix_part89.png → Dự đoán: nhacdo (98.88%)\n",
      "Ảnh remix_part90.png → Dự đoán: nhacdo (91.32%)\n",
      "Ảnh remix_part91.png → Dự đoán: nhacdo (98.43%)\n",
      "Ảnh remix_part92.png → Dự đoán: nhacdo (64.72%)\n",
      "Ảnh remix_part93.png → Dự đoán: nhacdo (91.39%)\n",
      "Ảnh remix_part94.png → Dự đoán: nhacdo (97.44%)\n",
      "Ảnh remix_part95.png → Dự đoán: nhacdo (87.15%)\n",
      "Ảnh remix_part96.png → Dự đoán: nhacdo (88.23%)\n",
      "Ảnh remix_part97.png → Dự đoán: nhacdo (93.81%)\n",
      "Ảnh remix_part98.png → Dự đoán: nhacdo (83.53%)\n",
      "Ảnh remix_part99.png → Dự đoán: nhacdo (98.60%)\n",
      "Ảnh remix_part100.png → Dự đoán: nhacdo (84.92%)\n",
      "Ảnh remix_part101.png → Dự đoán: nhacdo (91.70%)\n",
      "Ảnh remix_part102.png → Dự đoán: nhacdo (99.10%)\n",
      "Ảnh remix_part103.png → Dự đoán: nhacdo (95.37%)\n",
      "Ảnh remix_part104.png → Dự đoán: danca (51.58%)\n",
      "Ảnh remix_part105.png → Dự đoán: nhacdo (58.47%)\n",
      "Ảnh remix_part106.png → Dự đoán: bolero (44.66%)\n",
      "Ảnh remix_part107.png → Dự đoán: nhacdo (98.87%)\n",
      "Ảnh remix_part108.png → Dự đoán: nhacdo (98.76%)\n",
      "Ảnh remix_part109.png → Dự đoán: nhacdo (94.45%)\n",
      "Ảnh remix_part110.png → Dự đoán: nhacdo (64.00%)\n",
      "Ảnh remix_part111.png → Dự đoán: nhacdo (98.65%)\n",
      "Ảnh remix_part112.png → Dự đoán: nhacdo (94.55%)\n",
      "Ảnh remix_part113.png → Dự đoán: nhacdo (95.12%)\n",
      "Ảnh remix_part114.png → Dự đoán: nhacdo (91.28%)\n",
      "Ảnh remix_part115.png → Dự đoán: nhacdo (69.14%)\n",
      "Ảnh remix_part116.png → Dự đoán: nhacdo (84.10%)\n",
      "Ảnh remix_part117.png → Dự đoán: nhacdo (92.68%)\n",
      "Ảnh remix_part118.png → Dự đoán: nhacdo (97.65%)\n",
      "Ảnh remix_part119.png → Dự đoán: bolero (91.26%)\n",
      "Ảnh remix_part120.png → Dự đoán: nhacdo (93.90%)\n",
      "Ảnh remix_part121.png → Dự đoán: nhacdo (93.31%)\n",
      "Ảnh remix_part122.png → Dự đoán: nhacdo (99.74%)\n",
      "Ảnh remix_part123.png → Dự đoán: nhacdo (91.91%)\n",
      "Ảnh remix_part124.png → Dự đoán: danca (42.37%)\n",
      "Ảnh remix_part125.png → Dự đoán: nhacdo (80.18%)\n",
      "Ảnh remix_part126.png → Dự đoán: nhacdo (95.88%)\n",
      "Ảnh remix_part127.png → Dự đoán: nhacdo (46.31%)\n",
      "Ảnh remix_part128.png → Dự đoán: nhacdo (74.73%)\n",
      "Ảnh remix_part129.png → Dự đoán: nhacdo (75.59%)\n",
      "Ảnh remix_part130.png → Dự đoán: nhacdo (89.24%)\n",
      "Ảnh remix_part131.png → Dự đoán: nhacdo (96.01%)\n",
      "Ảnh remix_part132.png → Dự đoán: nhacdo (74.14%)\n",
      "Ảnh remix_part133.png → Dự đoán: nhacdo (98.90%)\n",
      "Ảnh remix_part134.png → Dự đoán: nhacdo (59.08%)\n",
      "Ảnh remix_part135.png → Dự đoán: nhacdo (86.20%)\n",
      "Ảnh remix_part136.png → Dự đoán: nhacdo (93.82%)\n",
      "Ảnh remix_part137.png → Dự đoán: nhacdo (95.18%)\n",
      "Ảnh remix_part138.png → Dự đoán: nhacdo (99.60%)\n",
      "Ảnh remix_part139.png → Dự đoán: bolero (56.03%)\n",
      "Ảnh remix_part140.png → Dự đoán: nhacdo (96.90%)\n",
      "Ảnh remix_part141.png → Dự đoán: nhacdo (99.87%)\n",
      "Ảnh remix_part142.png → Dự đoán: nhacdo (99.93%)\n",
      "Ảnh remix_part143.png → Dự đoán: nhacdo (99.81%)\n",
      "Ảnh remix_part144.png → Dự đoán: nhacdo (99.39%)\n",
      "Ảnh remix_part145.png → Dự đoán: nhacdo (99.07%)\n"
     ]
    }
   ],
   "source": [
    "predict(r\"D:\\classified_music\\data_test\\remix.wav\")"
   ]
  }
 ],
 "metadata": {
  "kernelspec": {
   "display_name": ".venv",
   "language": "python",
   "name": "python3"
  },
  "language_info": {
   "codemirror_mode": {
    "name": "ipython",
    "version": 3
   },
   "file_extension": ".py",
   "mimetype": "text/x-python",
   "name": "python",
   "nbconvert_exporter": "python",
   "pygments_lexer": "ipython3",
   "version": "3.10.10"
  }
 },
 "nbformat": 4,
 "nbformat_minor": 5
}
